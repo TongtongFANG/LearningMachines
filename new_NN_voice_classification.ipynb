{
 "cells": [
  {
   "cell_type": "code",
   "execution_count": 11,
   "metadata": {},
   "outputs": [],
   "source": [
    "import glob\n",
    "import os\n",
    "# import librosa\n",
    "# from librosa import display\n",
    "import numpy as np\n",
    "import matplotlib.pyplot as plt\n",
    "import tensorflow as tf\n",
    "from matplotlib.pyplot import specgram\n",
    "%matplotlib inline\n",
    "plt.style.use('ggplot')\n",
    "# import pydot\n",
    "# import graphviz\n",
    "plt.rcParams['font.family'] = 'serif'\n",
    "plt.rcParams['font.serif'] = 'Ubuntu'\n",
    "plt.rcParams['font.monospace'] = 'Ubuntu Mono'\n",
    "plt.rcParams['font.size'] = 12\n",
    "plt.rcParams['axes.labelsize'] = 11\n",
    "plt.rcParams['axes.labelweight'] = 'bold'\n",
    "plt.rcParams['axes.titlesize'] = 14\n",
    "plt.rcParams['xtick.labelsize'] = 10\n",
    "plt.rcParams['ytick.labelsize'] = 10\n",
    "plt.rcParams['legend.fontsize'] = 11\n",
    "plt.rcParams['figure.titlesize'] = 13"
   ]
  },
  {
   "cell_type": "code",
   "execution_count": 12,
   "metadata": {},
   "outputs": [],
   "source": [
    "features = np.loadtxt('nn_simple_features.csv', delimiter=',')\n",
    "labels = np.array(np.loadtxt('nn_simple_labels.csv', delimiter=','), dtype=np.int)"
   ]
  },
  {
   "cell_type": "code",
   "execution_count": 13,
   "metadata": {},
   "outputs": [],
   "source": [
    "from sklearn.preprocessing import normalize\n",
    "\n",
    "X_all = features\n",
    "y_all = labels"
   ]
  },
  {
   "cell_type": "code",
   "execution_count": 14,
   "metadata": {},
   "outputs": [
    {
     "name": "stderr",
     "output_type": "stream",
     "text": [
      "/home/hitmann/.local/lib/python3.5/site-packages/sklearn/model_selection/_split.py:2026: FutureWarning: From version 0.21, test_size will always complement train_size unless both are specified.\n",
      "  FutureWarning)\n"
     ]
    }
   ],
   "source": [
    "from sklearn.model_selection import train_test_split\n",
    "import time\n",
    "\n",
    "# X_not_test, X_test, y_not_rest, y_test = train_test_split(\n",
    "#     X_all, y_all, stratify=y_all, train_size=.85, random_state=round(time.time()))\n",
    "\n",
    "X_train, X_test, y_train, y_test = train_test_split(\n",
    "    X_all, y_all, stratify=y_all, train_size=.8, random_state=round(time.time()))"
   ]
  },
  {
   "cell_type": "code",
   "execution_count": 17,
   "metadata": {},
   "outputs": [
    {
     "name": "stdout",
     "output_type": "stream",
     "text": [
      "(9460, 1280)\n",
      "(9460, 5)\n",
      "(2366, 1280)\n",
      "(2366, 5)\n"
     ]
    }
   ],
   "source": [
    "print(X_train.shape)\n",
    "print(y_train.shape)\n",
    "print(X_test.shape)\n",
    "print(y_test.shape)"
   ]
  },
  {
   "cell_type": "code",
   "execution_count": 24,
   "metadata": {},
   "outputs": [],
   "source": [
    "## Imports\n",
    "from __future__ import print_function\n",
    "import keras\n",
    "from keras.datasets import mnist\n",
    "from keras.models import Sequential\n",
    "from keras.layers import Dense, Dropout, Flatten\n",
    "from keras.layers import Conv2D, MaxPooling2D\n",
    "from keras import backend as K\n",
    "from keras.utils import print_summary, plot_model"
   ]
  },
  {
   "cell_type": "code",
   "execution_count": 25,
   "metadata": {},
   "outputs": [
    {
     "name": "stdout",
     "output_type": "stream",
     "text": [
      "channels_last\n",
      "(9460, 40, 32, 1)\n",
      "(9460, 5)\n",
      "(2366, 40, 32, 1)\n",
      "(2366, 5)\n"
     ]
    }
   ],
   "source": [
    "# Training parameters\n",
    "batch_size = 32\n",
    "num_classes = 5\n",
    "epochs = 40\n",
    "img_rows, img_cols = 40, 32\n",
    "print(K.image_data_format())\n",
    "\n",
    "X_train = X_train.reshape(X_train.shape[0], img_rows, img_cols, 1)\n",
    "X_test = X_test.reshape(X_test.shape[0], img_rows, img_cols, 1)\n",
    "# X_val = X_val.reshape(X_val.shape[0], img_rows, img_cols, 1)\n",
    "input_shape = (img_rows, img_cols, 1)\n",
    "print(X_train.shape)\n",
    "print(y_train.shape)\n",
    "# print(X_val.shape)\n",
    "# print(y_val.shape)\n",
    "print(X_test.shape)\n",
    "print(y_test.shape)"
   ]
  },
  {
   "cell_type": "code",
   "execution_count": 26,
   "metadata": {},
   "outputs": [],
   "source": [
    "from keras import regularizers\n",
    "from keras.layers import BatchNormalization\n",
    "\n",
    "def build_model():\n",
    "    # Model definition\n",
    "    model = Sequential()\n",
    "    model.add(Conv2D(4, kernel_size=(5, 5),\n",
    "                     activation='relu',\n",
    "                     input_shape=input_shape))\n",
    "    model.add(BatchNormalization())\n",
    "    model.add(MaxPooling2D(pool_size=(2, 2)))\n",
    "    model.add(Dropout(0.2))\n",
    "    \n",
    "    model.add(Conv2D(8, (3, 3), activation='relu'))\n",
    "    model.add(BatchNormalization())\n",
    "    model.add(MaxPooling2D(pool_size=(2, 2)))\n",
    "    model.add(Dropout(0.2))\n",
    "    \n",
    "    model.add(Flatten())\n",
    "    model.add(Dense(128, activation='relu'))\n",
    "    model.add(BatchNormalization())\n",
    "    model.add(Dropout(0.2))\n",
    "\n",
    "    model.add(Dense(64, activation='relu'))\n",
    "    model.add(BatchNormalization())\n",
    "    model.add(Dropout(0.2))\n",
    "\n",
    "    model.add(Dense(num_classes, activation='softmax'))\n",
    "\n",
    "    model.compile(loss=keras.losses.categorical_crossentropy,\n",
    "                  optimizer=keras.optimizers.Adam(lr=.005),\n",
    "                  metrics=['accuracy'])\n",
    "    \n",
    "    return model"
   ]
  },
  {
   "cell_type": "code",
   "execution_count": 27,
   "metadata": {},
   "outputs": [],
   "source": [
    "model = build_model()"
   ]
  },
  {
   "cell_type": "code",
   "execution_count": 28,
   "metadata": {
    "scrolled": false
   },
   "outputs": [
    {
     "name": "stdout",
     "output_type": "stream",
     "text": [
      "Train on 9460 samples, validate on 2366 samples\n",
      "Epoch 1/40\n",
      "9460/9460 [==============================] - 7s 692us/step - loss: 1.2430 - acc: 0.5079 - val_loss: 0.7306 - val_acc: 0.7287\n",
      "Epoch 2/40\n",
      "9460/9460 [==============================] - 5s 576us/step - loss: 0.8677 - acc: 0.6761 - val_loss: 0.6300 - val_acc: 0.7608\n",
      "Epoch 3/40\n",
      "9460/9460 [==============================] - 5s 581us/step - loss: 0.7314 - acc: 0.7236 - val_loss: 0.5014 - val_acc: 0.8204\n",
      "Epoch 4/40\n",
      "9460/9460 [==============================] - 5s 572us/step - loss: 0.6597 - acc: 0.7541 - val_loss: 0.4692 - val_acc: 0.8402\n",
      "Epoch 5/40\n",
      "9460/9460 [==============================] - 6s 618us/step - loss: 0.6160 - acc: 0.7732 - val_loss: 0.3628 - val_acc: 0.8762\n",
      "Epoch 6/40\n",
      "9460/9460 [==============================] - 6s 590us/step - loss: 0.5767 - acc: 0.7873 - val_loss: 0.3791 - val_acc: 0.8719\n",
      "Epoch 7/40\n",
      "9460/9460 [==============================] - 6s 593us/step - loss: 0.5675 - acc: 0.7953 - val_loss: 0.3434 - val_acc: 0.8846\n",
      "Epoch 8/40\n",
      "9460/9460 [==============================] - 6s 614us/step - loss: 0.5430 - acc: 0.8044 - val_loss: 0.3284 - val_acc: 0.8838\n",
      "Epoch 9/40\n",
      "9460/9460 [==============================] - 5s 578us/step - loss: 0.5117 - acc: 0.8117 - val_loss: 0.3602 - val_acc: 0.8757\n",
      "Epoch 10/40\n",
      "9460/9460 [==============================] - 6s 591us/step - loss: 0.5006 - acc: 0.8174 - val_loss: 0.2939 - val_acc: 0.8939\n",
      "Epoch 11/40\n",
      "9460/9460 [==============================] - 6s 589us/step - loss: 0.5029 - acc: 0.8189 - val_loss: 0.3062 - val_acc: 0.9028\n",
      "Epoch 12/40\n",
      "9460/9460 [==============================] - 6s 653us/step - loss: 0.4813 - acc: 0.8299 - val_loss: 0.2786 - val_acc: 0.9019\n",
      "Epoch 13/40\n",
      "9460/9460 [==============================] - 6s 625us/step - loss: 0.4693 - acc: 0.8276 - val_loss: 0.2834 - val_acc: 0.9015\n",
      "Epoch 14/40\n",
      "9460/9460 [==============================] - 6s 583us/step - loss: 0.4756 - acc: 0.8313 - val_loss: 0.2924 - val_acc: 0.9036\n",
      "Epoch 15/40\n",
      "9460/9460 [==============================] - 5s 579us/step - loss: 0.4467 - acc: 0.8389 - val_loss: 0.2804 - val_acc: 0.8964\n",
      "Epoch 16/40\n",
      "9460/9460 [==============================] - 5s 553us/step - loss: 0.4447 - acc: 0.8407 - val_loss: 0.2824 - val_acc: 0.9053\n",
      "Epoch 17/40\n",
      "9460/9460 [==============================] - 6s 596us/step - loss: 0.4227 - acc: 0.8497 - val_loss: 0.2591 - val_acc: 0.9163\n",
      "Epoch 18/40\n",
      "9460/9460 [==============================] - 5s 556us/step - loss: 0.4221 - acc: 0.8463 - val_loss: 0.2910 - val_acc: 0.8914\n",
      "Epoch 19/40\n",
      "9460/9460 [==============================] - 5s 493us/step - loss: 0.4158 - acc: 0.8477 - val_loss: 0.2842 - val_acc: 0.8994\n",
      "Epoch 20/40\n",
      "9460/9460 [==============================] - 5s 549us/step - loss: 0.4056 - acc: 0.8499 - val_loss: 0.2376 - val_acc: 0.9172\n",
      "Epoch 21/40\n",
      "9460/9460 [==============================] - 6s 592us/step - loss: 0.4070 - acc: 0.8555 - val_loss: 0.2548 - val_acc: 0.9121\n",
      "Epoch 22/40\n",
      "9460/9460 [==============================] - 5s 523us/step - loss: 0.4110 - acc: 0.8526 - val_loss: 0.2402 - val_acc: 0.9163\n",
      "Epoch 23/40\n",
      "9460/9460 [==============================] - 6s 608us/step - loss: 0.3979 - acc: 0.8545 - val_loss: 0.2299 - val_acc: 0.9189\n",
      "Epoch 24/40\n",
      "9460/9460 [==============================] - 5s 558us/step - loss: 0.3813 - acc: 0.8652 - val_loss: 0.2228 - val_acc: 0.9201\n",
      "Epoch 25/40\n",
      "9460/9460 [==============================] - 5s 560us/step - loss: 0.3772 - acc: 0.8668 - val_loss: 0.2462 - val_acc: 0.9159\n",
      "Epoch 26/40\n",
      "9460/9460 [==============================] - 5s 548us/step - loss: 0.3690 - acc: 0.8665 - val_loss: 0.2470 - val_acc: 0.9125\n",
      "Epoch 27/40\n",
      "9460/9460 [==============================] - 6s 590us/step - loss: 0.3863 - acc: 0.8608 - val_loss: 0.2307 - val_acc: 0.9205\n",
      "Epoch 28/40\n",
      "9460/9460 [==============================] - 5s 565us/step - loss: 0.3687 - acc: 0.8690 - val_loss: 0.2305 - val_acc: 0.9205\n",
      "Epoch 29/40\n",
      "9460/9460 [==============================] - 5s 566us/step - loss: 0.3825 - acc: 0.8646 - val_loss: 0.2248 - val_acc: 0.9256\n",
      "Epoch 30/40\n",
      "9460/9460 [==============================] - 5s 576us/step - loss: 0.3571 - acc: 0.8698 - val_loss: 0.2797 - val_acc: 0.8931\n",
      "Epoch 31/40\n",
      "9460/9460 [==============================] - 5s 544us/step - loss: 0.3760 - acc: 0.8688 - val_loss: 0.2280 - val_acc: 0.9227\n",
      "Epoch 32/40\n",
      "9460/9460 [==============================] - 4s 431us/step - loss: 0.3524 - acc: 0.8712 - val_loss: 0.2382 - val_acc: 0.9172\n",
      "Epoch 33/40\n",
      "9460/9460 [==============================] - 5s 506us/step - loss: 0.3668 - acc: 0.8655 - val_loss: 0.2448 - val_acc: 0.9100\n",
      "Epoch 34/40\n",
      "9460/9460 [==============================] - 5s 520us/step - loss: 0.3580 - acc: 0.8741 - val_loss: 0.2179 - val_acc: 0.9239\n",
      "Epoch 35/40\n",
      "9460/9460 [==============================] - 5s 511us/step - loss: 0.3520 - acc: 0.8718 - val_loss: 0.2065 - val_acc: 0.9265\n",
      "Epoch 36/40\n",
      "9460/9460 [==============================] - 5s 517us/step - loss: 0.3492 - acc: 0.8749 - val_loss: 0.2184 - val_acc: 0.9277\n",
      "Epoch 37/40\n",
      "9460/9460 [==============================] - 5s 566us/step - loss: 0.3522 - acc: 0.8727 - val_loss: 0.2158 - val_acc: 0.9239\n",
      "Epoch 38/40\n",
      "9460/9460 [==============================] - 6s 607us/step - loss: 0.3456 - acc: 0.8768 - val_loss: 0.2418 - val_acc: 0.9159\n",
      "Epoch 39/40\n",
      "9460/9460 [==============================] - 5s 552us/step - loss: 0.3396 - acc: 0.8771 - val_loss: 0.2021 - val_acc: 0.9324\n",
      "Epoch 40/40\n",
      "9460/9460 [==============================] - 5s 530us/step - loss: 0.3286 - acc: 0.8833 - val_loss: 0.2147 - val_acc: 0.9218\n"
     ]
    },
    {
     "data": {
      "text/plain": [
       "<keras.callbacks.History at 0x7fcf8b65ff60>"
      ]
     },
     "execution_count": 28,
     "metadata": {},
     "output_type": "execute_result"
    }
   ],
   "source": [
    "model.fit(X_train, y_train,\n",
    "          batch_size=batch_size,\n",
    "          epochs=epochs,\n",
    "          verbose=1,\n",
    "          validation_data=(X_test, y_test))"
   ]
  },
  {
   "cell_type": "code",
   "execution_count": 29,
   "metadata": {},
   "outputs": [
    {
     "name": "stdout",
     "output_type": "stream",
     "text": [
      "2366/2366 [==============================] - 0s 162us/step\n",
      "\n",
      "Test loss: 0.214748954758\n",
      "Test accuracy: 0.921808960321\n"
     ]
    }
   ],
   "source": [
    "score = model.evaluate(X_test, y_test, verbose=1)\n",
    "print()\n",
    "print('Test loss:', score[0])\n",
    "print('Test accuracy:', score[1])"
   ]
  },
  {
   "cell_type": "code",
   "execution_count": 13,
   "metadata": {
    "scrolled": false
   },
   "outputs": [
    {
     "name": "stdout",
     "output_type": "stream",
     "text": [
      "_________________________________________________________________\n",
      "Layer (type)                 Output Shape              Param #   \n",
      "=================================================================\n",
      "conv2d_1 (Conv2D)            (None, 36, 28, 4)         104       \n",
      "_________________________________________________________________\n",
      "batch_normalization_1 (Batch (None, 36, 28, 4)         16        \n",
      "_________________________________________________________________\n",
      "max_pooling2d_1 (MaxPooling2 (None, 18, 14, 4)         0         \n",
      "_________________________________________________________________\n",
      "dropout_1 (Dropout)          (None, 18, 14, 4)         0         \n",
      "_________________________________________________________________\n",
      "conv2d_2 (Conv2D)            (None, 16, 12, 8)         296       \n",
      "_________________________________________________________________\n",
      "batch_normalization_2 (Batch (None, 16, 12, 8)         32        \n",
      "_________________________________________________________________\n",
      "max_pooling2d_2 (MaxPooling2 (None, 8, 6, 8)           0         \n",
      "_________________________________________________________________\n",
      "dropout_2 (Dropout)          (None, 8, 6, 8)           0         \n",
      "_________________________________________________________________\n",
      "flatten_1 (Flatten)          (None, 384)               0         \n",
      "_________________________________________________________________\n",
      "dense_1 (Dense)              (None, 128)               49280     \n",
      "_________________________________________________________________\n",
      "batch_normalization_3 (Batch (None, 128)               512       \n",
      "_________________________________________________________________\n",
      "dropout_3 (Dropout)          (None, 128)               0         \n",
      "_________________________________________________________________\n",
      "dense_2 (Dense)              (None, 64)                8256      \n",
      "_________________________________________________________________\n",
      "batch_normalization_4 (Batch (None, 64)                256       \n",
      "_________________________________________________________________\n",
      "dropout_4 (Dropout)          (None, 64)                0         \n",
      "_________________________________________________________________\n",
      "dense_3 (Dense)              (None, 5)                 325       \n",
      "=================================================================\n",
      "Total params: 59,077\n",
      "Trainable params: 58,669\n",
      "Non-trainable params: 408\n",
      "_________________________________________________________________\n"
     ]
    }
   ],
   "source": [
    "from keras.utils import print_summary, plot_model\n",
    "\n",
    "print_summary(model)"
   ]
  },
  {
   "cell_type": "code",
   "execution_count": null,
   "metadata": {
    "collapsed": true
   },
   "outputs": [],
   "source": []
  }
 ],
 "metadata": {
  "kernelspec": {
   "display_name": "Python 3",
   "language": "python",
   "name": "python3"
  },
  "language_info": {
   "codemirror_mode": {
    "name": "ipython",
    "version": 3
   },
   "file_extension": ".py",
   "mimetype": "text/x-python",
   "name": "python",
   "nbconvert_exporter": "python",
   "pygments_lexer": "ipython3",
   "version": "3.5.2"
  }
 },
 "nbformat": 4,
 "nbformat_minor": 2
}
