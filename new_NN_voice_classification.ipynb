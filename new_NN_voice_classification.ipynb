{
 "cells": [
  {
   "cell_type": "code",
   "execution_count": 1,
   "metadata": {},
   "outputs": [
    {
     "name": "stderr",
     "output_type": "stream",
     "text": [
      "/home/admin/anaconda3/envs/py35deeplearning/lib/python3.5/site-packages/h5py/__init__.py:36: FutureWarning: Conversion of the second argument of issubdtype from `float` to `np.floating` is deprecated. In future, it will be treated as `np.float64 == np.dtype(float).type`.\n",
      "  from ._conv import register_converters as _register_converters\n"
     ]
    }
   ],
   "source": [
    "import glob\n",
    "import os\n",
    "# import librosa\n",
    "# from librosa import display\n",
    "import numpy as np\n",
    "import matplotlib.pyplot as plt\n",
    "import tensorflow as tf\n",
    "from matplotlib.pyplot import specgram\n",
    "%matplotlib inline\n",
    "plt.style.use('ggplot')\n",
    "# import pydot\n",
    "# import graphviz\n",
    "plt.rcParams['font.family'] = 'serif'\n",
    "plt.rcParams['font.serif'] = 'Ubuntu'\n",
    "plt.rcParams['font.monospace'] = 'Ubuntu Mono'\n",
    "plt.rcParams['font.size'] = 12\n",
    "plt.rcParams['axes.labelsize'] = 11\n",
    "plt.rcParams['axes.labelweight'] = 'bold'\n",
    "plt.rcParams['axes.titlesize'] = 14\n",
    "plt.rcParams['xtick.labelsize'] = 10\n",
    "plt.rcParams['ytick.labelsize'] = 10\n",
    "plt.rcParams['legend.fontsize'] = 11\n",
    "plt.rcParams['figure.titlesize'] = 13"
   ]
  },
  {
   "cell_type": "code",
   "execution_count": 2,
   "metadata": {},
   "outputs": [],
   "source": [
    "features = np.loadtxt('nn_simple_features.csv', delimiter=',')\n",
    "labels = np.array(np.loadtxt('nn_simple_labels.csv', delimiter=','), dtype=np.int)"
   ]
  },
  {
   "cell_type": "code",
   "execution_count": 15,
   "metadata": {},
   "outputs": [],
   "source": [
    "from sklearn.preprocessing import normalize\n",
    "\n",
    "X_all = features\n",
    "\n",
    "from sklearn.preprocessing import OneHotEncoder\n",
    "\n",
    "enc = OneHotEncoder(sparse=False)\n",
    "y_all = enc.fit_transform(labels.reshape(-1, 1))"
   ]
  },
  {
   "cell_type": "code",
   "execution_count": 16,
   "metadata": {},
   "outputs": [
    {
     "name": "stderr",
     "output_type": "stream",
     "text": [
      "/home/admin/anaconda3/envs/py35deeplearning/lib/python3.5/site-packages/sklearn/model_selection/_split.py:2026: FutureWarning: From version 0.21, test_size will always complement train_size unless both are specified.\n",
      "  FutureWarning)\n"
     ]
    }
   ],
   "source": [
    "from sklearn.model_selection import train_test_split\n",
    "import time\n",
    "\n",
    "X_not_test, X_test, y_not_rest, y_test = train_test_split(\n",
    "        X_all, y_all, stratify=y_all, train_size=.85, random_state=round(time.time()))\n",
    "\n",
    "X_train, X_val, y_train, y_val = train_test_split(\n",
    "    X_not_test, y_not_rest, stratify=y_not_rest, train_size=.95, random_state=round(time.time()))"
   ]
  },
  {
   "cell_type": "code",
   "execution_count": 17,
   "metadata": {},
   "outputs": [
    {
     "name": "stdout",
     "output_type": "stream",
     "text": [
      "(11448, 1280)\n",
      "(11448, 6)\n",
      "(603, 1280)\n",
      "(603, 6)\n",
      "(2127, 1280)\n",
      "(2127, 6)\n"
     ]
    }
   ],
   "source": [
    "print(X_train.shape)\n",
    "print(y_train.shape)\n",
    "print(X_val.shape)\n",
    "print(y_val.shape)\n",
    "print(X_test.shape)\n",
    "print(y_test.shape)"
   ]
  },
  {
   "cell_type": "code",
   "execution_count": 18,
   "metadata": {},
   "outputs": [],
   "source": [
    "## Imports\n",
    "from __future__ import print_function\n",
    "import keras\n",
    "from keras.datasets import mnist\n",
    "from keras.models import Sequential\n",
    "from keras.layers import Dense, Dropout, Flatten\n",
    "from keras.layers import Conv2D, MaxPooling2D\n",
    "from keras import backend as K\n",
    "from keras.utils import print_summary, plot_model"
   ]
  },
  {
   "cell_type": "code",
   "execution_count": 19,
   "metadata": {},
   "outputs": [
    {
     "name": "stdout",
     "output_type": "stream",
     "text": [
      "channels_last\n",
      "(11448, 40, 32, 1)\n",
      "(11448, 6)\n",
      "(603, 40, 32, 1)\n",
      "(603, 6)\n",
      "(2127, 40, 32, 1)\n",
      "(2127, 6)\n"
     ]
    }
   ],
   "source": [
    "# Training parameters\n",
    "batch_size = 32\n",
    "num_classes = 6\n",
    "epochs = 40\n",
    "img_rows, img_cols = 40, 32\n",
    "print(K.image_data_format())\n",
    "\n",
    "X_train = X_train.reshape(X_train.shape[0], img_rows, img_cols, 1)\n",
    "X_test = X_test.reshape(X_test.shape[0], img_rows, img_cols, 1)\n",
    "X_val = X_val.reshape(X_val.shape[0], img_rows, img_cols, 1)\n",
    "\n",
    "input_shape = (img_rows, img_cols, 1)\n",
    "print(X_train.shape)\n",
    "print(y_train.shape)\n",
    "print(X_val.shape)\n",
    "print(y_val.shape)\n",
    "print(X_test.shape)\n",
    "print(y_test.shape)"
   ]
  },
  {
   "cell_type": "code",
   "execution_count": 20,
   "metadata": {},
   "outputs": [],
   "source": [
    "from keras import regularizers\n",
    "from keras.layers import BatchNormalization\n",
    "\n",
    "def build_model():\n",
    "    # Model definition\n",
    "    model = Sequential()\n",
    "    model.add(Conv2D(4, kernel_size=(5, 5),\n",
    "                     activation='relu',\n",
    "                     input_shape=input_shape))\n",
    "    model.add(BatchNormalization())\n",
    "    model.add(MaxPooling2D(pool_size=(2, 2)))\n",
    "    model.add(Dropout(0.2))\n",
    "    \n",
    "    model.add(Conv2D(8, (3, 3), activation='relu'))\n",
    "    model.add(BatchNormalization())\n",
    "    model.add(MaxPooling2D(pool_size=(2, 2)))\n",
    "    model.add(Dropout(0.2))\n",
    "    \n",
    "    model.add(Flatten())\n",
    "    model.add(Dense(128, activation='relu'))\n",
    "    model.add(BatchNormalization())\n",
    "    model.add(Dropout(0.2))\n",
    "\n",
    "    model.add(Dense(64, activation='relu'))\n",
    "    model.add(BatchNormalization())\n",
    "    model.add(Dropout(0.2))\n",
    "\n",
    "    model.add(Dense(num_classes, activation='softmax'))\n",
    "\n",
    "    model.compile(loss=keras.losses.categorical_crossentropy,\n",
    "                  optimizer=keras.optimizers.Adam(lr=.005),\n",
    "                  metrics=['accuracy'])\n",
    "    \n",
    "    return model"
   ]
  },
  {
   "cell_type": "code",
   "execution_count": 21,
   "metadata": {},
   "outputs": [],
   "source": [
    "model = build_model()"
   ]
  },
  {
   "cell_type": "code",
   "execution_count": 22,
   "metadata": {
    "scrolled": true
   },
   "outputs": [
    {
     "name": "stdout",
     "output_type": "stream",
     "text": [
      "Train on 11448 samples, validate on 603 samples\n",
      "Epoch 1/40\n",
      "11448/11448 [==============================] - 15s 1ms/step - loss: 1.4670 - acc: 0.4340 - val_loss: 0.8745 - val_acc: 0.6849\n",
      "Epoch 2/40\n",
      "11448/11448 [==============================] - 15s 1ms/step - loss: 0.9742 - acc: 0.6377 - val_loss: 0.6555 - val_acc: 0.7678\n",
      "Epoch 3/40\n",
      "11448/11448 [==============================] - 13s 1ms/step - loss: 0.8394 - acc: 0.6950 - val_loss: 0.5373 - val_acc: 0.8275\n",
      "Epoch 4/40\n",
      "11448/11448 [==============================] - 14s 1ms/step - loss: 0.7432 - acc: 0.7298 - val_loss: 0.4710 - val_acc: 0.8391\n",
      "Epoch 5/40\n",
      "11448/11448 [==============================] - 14s 1ms/step - loss: 0.6928 - acc: 0.7492 - val_loss: 0.4275 - val_acc: 0.8375\n",
      "Epoch 6/40\n",
      "11448/11448 [==============================] - 15s 1ms/step - loss: 0.6517 - acc: 0.7677 - val_loss: 0.3873 - val_acc: 0.8756\n",
      "Epoch 7/40\n",
      "11448/11448 [==============================] - 14s 1ms/step - loss: 0.6116 - acc: 0.7814 - val_loss: 0.3745 - val_acc: 0.8723\n",
      "Epoch 8/40\n",
      "11448/11448 [==============================] - 17s 1ms/step - loss: 0.5966 - acc: 0.7879 - val_loss: 0.3728 - val_acc: 0.8789\n",
      "Epoch 9/40\n",
      "11448/11448 [==============================] - 16s 1ms/step - loss: 0.5770 - acc: 0.7905 - val_loss: 0.3056 - val_acc: 0.9005\n",
      "Epoch 10/40\n",
      "11448/11448 [==============================] - 15s 1ms/step - loss: 0.5574 - acc: 0.8012 - val_loss: 0.3100 - val_acc: 0.8889\n",
      "Epoch 11/40\n",
      "11448/11448 [==============================] - 16s 1ms/step - loss: 0.5532 - acc: 0.8030 - val_loss: 0.3830 - val_acc: 0.8640\n",
      "Epoch 12/40\n",
      "11448/11448 [==============================] - 20s 2ms/step - loss: 0.5206 - acc: 0.8111 - val_loss: 0.3058 - val_acc: 0.9022\n",
      "Epoch 13/40\n",
      "11448/11448 [==============================] - 19s 2ms/step - loss: 0.5391 - acc: 0.8047 - val_loss: 0.3091 - val_acc: 0.8939\n",
      "Epoch 14/40\n",
      "11448/11448 [==============================] - 15s 1ms/step - loss: 0.5095 - acc: 0.8181 - val_loss: 0.3089 - val_acc: 0.8939\n",
      "Epoch 15/40\n",
      "11448/11448 [==============================] - 14s 1ms/step - loss: 0.5049 - acc: 0.8235 - val_loss: 0.2660 - val_acc: 0.9138\n",
      "Epoch 16/40\n",
      "11448/11448 [==============================] - 13s 1ms/step - loss: 0.5010 - acc: 0.8194 - val_loss: 0.2862 - val_acc: 0.8939\n",
      "Epoch 17/40\n",
      "11448/11448 [==============================] - 14s 1ms/step - loss: 0.4879 - acc: 0.8271 - val_loss: 0.2832 - val_acc: 0.8922\n",
      "Epoch 18/40\n",
      "11448/11448 [==============================] - 14s 1ms/step - loss: 0.4673 - acc: 0.8323 - val_loss: 0.2638 - val_acc: 0.9055\n",
      "Epoch 19/40\n",
      "11448/11448 [==============================] - 12s 1ms/step - loss: 0.4804 - acc: 0.8318 - val_loss: 0.2973 - val_acc: 0.9088\n",
      "Epoch 20/40\n",
      "11448/11448 [==============================] - 13s 1ms/step - loss: 0.4783 - acc: 0.8329 - val_loss: 0.2660 - val_acc: 0.9171\n",
      "Epoch 21/40\n",
      "11448/11448 [==============================] - 14s 1ms/step - loss: 0.4637 - acc: 0.8360 - val_loss: 0.2871 - val_acc: 0.9071\n",
      "Epoch 22/40\n",
      "11448/11448 [==============================] - 14s 1ms/step - loss: 0.4549 - acc: 0.8395 - val_loss: 0.2591 - val_acc: 0.9121\n",
      "Epoch 23/40\n",
      "11448/11448 [==============================] - 12s 1ms/step - loss: 0.4481 - acc: 0.8427 - val_loss: 0.2637 - val_acc: 0.9104\n",
      "Epoch 24/40\n",
      "11448/11448 [==============================] - 13s 1ms/step - loss: 0.4557 - acc: 0.8372 - val_loss: 0.2727 - val_acc: 0.9055\n",
      "Epoch 25/40\n",
      "11448/11448 [==============================] - 13s 1ms/step - loss: 0.4427 - acc: 0.8418 - val_loss: 0.2809 - val_acc: 0.9138\n",
      "Epoch 26/40\n",
      "11448/11448 [==============================] - 15s 1ms/step - loss: 0.4416 - acc: 0.8395 - val_loss: 0.2871 - val_acc: 0.9121\n",
      "Epoch 27/40\n",
      "11448/11448 [==============================] - 14s 1ms/step - loss: 0.4350 - acc: 0.8430 - val_loss: 0.2915 - val_acc: 0.9071\n",
      "Epoch 28/40\n",
      "11448/11448 [==============================] - 13s 1ms/step - loss: 0.4232 - acc: 0.8489 - val_loss: 0.2591 - val_acc: 0.9138\n",
      "Epoch 29/40\n",
      "11448/11448 [==============================] - 15s 1ms/step - loss: 0.4268 - acc: 0.8522 - val_loss: 0.2497 - val_acc: 0.9071\n",
      "Epoch 30/40\n",
      "11448/11448 [==============================] - 13s 1ms/step - loss: 0.4300 - acc: 0.8482 - val_loss: 0.2712 - val_acc: 0.9055\n",
      "Epoch 31/40\n",
      "11448/11448 [==============================] - 16s 1ms/step - loss: 0.4153 - acc: 0.8525 - val_loss: 0.2630 - val_acc: 0.9121\n",
      "Epoch 32/40\n",
      "11448/11448 [==============================] - 18s 2ms/step - loss: 0.4109 - acc: 0.8519 - val_loss: 0.2673 - val_acc: 0.9121\n",
      "Epoch 33/40\n",
      "11448/11448 [==============================] - 14s 1ms/step - loss: 0.4111 - acc: 0.8527 - val_loss: 0.2442 - val_acc: 0.9254\n",
      "Epoch 34/40\n",
      "11448/11448 [==============================] - 14s 1ms/step - loss: 0.4119 - acc: 0.8552 - val_loss: 0.2657 - val_acc: 0.9187\n",
      "Epoch 35/40\n",
      "11448/11448 [==============================] - 14s 1ms/step - loss: 0.4052 - acc: 0.8574 - val_loss: 0.2432 - val_acc: 0.9204\n",
      "Epoch 36/40\n",
      "11448/11448 [==============================] - 14s 1ms/step - loss: 0.4047 - acc: 0.8563 - val_loss: 0.2711 - val_acc: 0.9121\n",
      "Epoch 37/40\n",
      "11448/11448 [==============================] - 16s 1ms/step - loss: 0.3940 - acc: 0.8578 - val_loss: 0.2422 - val_acc: 0.9237\n",
      "Epoch 38/40\n",
      "11448/11448 [==============================] - 18s 2ms/step - loss: 0.4029 - acc: 0.8583 - val_loss: 0.2453 - val_acc: 0.9237\n",
      "Epoch 39/40\n",
      "11448/11448 [==============================] - 17s 2ms/step - loss: 0.3980 - acc: 0.8594 - val_loss: 0.2435 - val_acc: 0.9171\n",
      "Epoch 40/40\n",
      "11448/11448 [==============================] - 18s 2ms/step - loss: 0.3938 - acc: 0.8587 - val_loss: 0.2755 - val_acc: 0.9071\n"
     ]
    },
    {
     "data": {
      "text/plain": [
       "<keras.callbacks.History at 0x7f26672744a8>"
      ]
     },
     "execution_count": 22,
     "metadata": {},
     "output_type": "execute_result"
    }
   ],
   "source": [
    "model.fit(X_train, y_train,\n",
    "          batch_size=batch_size,\n",
    "          epochs=epochs,\n",
    "          verbose=1,\n",
    "          validation_data=(X_val, y_val))"
   ]
  },
  {
   "cell_type": "code",
   "execution_count": 23,
   "metadata": {},
   "outputs": [
    {
     "name": "stdout",
     "output_type": "stream",
     "text": [
      "2127/2127 [==============================] - 1s 499us/step\n",
      "\n",
      "Test loss: 0.309219613419097\n",
      "Test accuracy: 0.8970380818053597\n"
     ]
    }
   ],
   "source": [
    "score = model.evaluate(X_test, y_test, verbose=1)\n",
    "print()\n",
    "print('Test loss:', score[0])\n",
    "print('Test accuracy:', score[1])"
   ]
  },
  {
   "cell_type": "code",
   "execution_count": null,
   "metadata": {
    "collapsed": true
   },
   "outputs": [],
   "source": []
  }
 ],
 "metadata": {
  "kernelspec": {
   "display_name": "Python 3",
   "language": "python",
   "name": "python3"
  },
  "language_info": {
   "codemirror_mode": {
    "name": "ipython",
    "version": 3
   },
   "file_extension": ".py",
   "mimetype": "text/x-python",
   "name": "python",
   "nbconvert_exporter": "python",
   "pygments_lexer": "ipython3",
   "version": "3.5.4"
  }
 },
 "nbformat": 4,
 "nbformat_minor": 2
}
