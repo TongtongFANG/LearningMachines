{
 "cells": [
  {
   "cell_type": "code",
   "execution_count": 1,
   "metadata": {
    "collapsed": true,
    "deletable": true,
    "editable": true
   },
   "outputs": [],
   "source": [
    "import glob\n",
    "import os\n",
    "import librosa\n",
    "import numpy as np\n",
    "import matplotlib.pyplot as plt\n",
    "from matplotlib.pyplot import specgram\n",
    "%matplotlib inline\n",
    "plt.style.use('ggplot')\n",
    "\n",
    "plt.rcParams['font.family'] = 'serif'\n",
    "plt.rcParams['font.serif'] = 'Ubuntu'\n",
    "plt.rcParams['font.monospace'] = 'Ubuntu Mono'\n",
    "plt.rcParams['font.size'] = 12\n",
    "plt.rcParams['axes.labelsize'] = 11\n",
    "plt.rcParams['axes.labelweight'] = 'bold'\n",
    "plt.rcParams['axes.titlesize'] = 14\n",
    "plt.rcParams['xtick.labelsize'] = 10\n",
    "plt.rcParams['ytick.labelsize'] = 10\n",
    "plt.rcParams['legend.fontsize'] = 11\n",
    "plt.rcParams['figure.titlesize'] = 13"
   ]
  },
  {
   "cell_type": "code",
   "execution_count": 2,
   "metadata": {
    "collapsed": true,
    "deletable": true,
    "editable": true
   },
   "outputs": [],
   "source": [
    "def load_sound_files(file_paths):\n",
    "    raw_sounds = []\n",
    "    for fp in file_paths:\n",
    "        X,sr = librosa.load(fp, sr=None)\n",
    "        \n",
    "        print('extracting %s' % (fp), len(X), sr)\n",
    "        raw_sounds.append(X)\n",
    "    return raw_sounds\n",
    "\n",
    "def plot_waves(sound_names,raw_sounds):\n",
    "    \n",
    "    print(\"In plot_waves\")\n",
    "    i = 1\n",
    "    fig = plt.figure(figsize=(25,60), dpi = 900)\n",
    "    for n,f in zip(sound_names,raw_sounds):\n",
    "        print(\"plotting\", n, f)\n",
    "        plt.subplot(10,1,i)\n",
    "        librosa.display.waveplot(np.array(f), sr=16000)\n",
    "        plt.title(n.title())\n",
    "        i += 1\n",
    "        \n",
    "    print(\"after for\")\n",
    "    plt.suptitle('Figure 1: Waveplot',x=0.5, y=0.915,fontsize=18)\n",
    "    plt.show()\n",
    "    \n",
    "def plot_specgram(sound_names,raw_sounds):\n",
    "    i = 1\n",
    "    fig = plt.figure(figsize=(25,60), dpi = 900)\n",
    "    for n,f in zip(sound_names,raw_sounds):\n",
    "        plt.subplot(10,1,i)\n",
    "        specgram(np.array(f), Fs=16000)\n",
    "        plt.title(n.title())\n",
    "        i += 1\n",
    "    plt.suptitle('Figure 2: Spectrogram',x=0.5, y=0.915,fontsize=18)\n",
    "    plt.show()\n",
    "\n",
    "def plot_log_power_specgram(sound_names,raw_sounds):\n",
    "    i = 1\n",
    "    fig = plt.figure(figsize=(25,60), dpi = 900)\n",
    "    for n,f in zip(sound_names,raw_sounds):\n",
    "        plt.subplot(10,1,i)\n",
    "        D = librosa.logamplitude(np.abs(librosa.stft(f))**2, ref_power=np.max)\n",
    "        librosa.display.specshow(D,x_axis='time' ,y_axis='log')\n",
    "        plt.title(n.title())\n",
    "        i += 1\n",
    "    plt.suptitle('Figure 3: Log power spectrogram',x=0.5, y=0.915,fontsize=18)\n",
    "    plt.show()"
   ]
  },
  {
   "cell_type": "code",
   "execution_count": 3,
   "metadata": {
    "collapsed": true,
    "deletable": true,
    "editable": true
   },
   "outputs": [],
   "source": [
    "class_labels = {\n",
    "    'down' : 3,\n",
    "    'left' : 1,\n",
    "    'right': 0,\n",
    "    'up'   : 2,\n",
    "    'on'   : 4,\n",
    "    'off'  : 5\n",
    "}\n",
    "\n",
    "def windows(data, window_size):\n",
    "    start = 0\n",
    "    while start < len(data):\n",
    "        yield int(start), int(start + window_size)\n",
    "        start += window_size\n",
    "\n",
    "def extract_mfccs(X, sample_rate, time_interval=0.1, num_mfcc=40):\n",
    "    \n",
    "    mfccs = np.array([])\n",
    "    window_size = int(len(X) / 10)\n",
    "    \n",
    "    for (start,end) in windows(X, window_size):\n",
    "        if len(X[start:end]) != window_size:\n",
    "            continue\n",
    "        mfcc = np.mean(librosa.feature.mfcc(y=X[start:end], sr=sample_rate, n_mfcc=num_mfcc).T,axis=0)\n",
    "        \n",
    "        mfccs = np.append(mfccs, mfcc)\n",
    "    \n",
    "    return mfccs\n",
    "\n",
    "def extract_feature(file_name):\n",
    "    X, sample_rate = librosa.load(file_name, sr=None)\n",
    "    stft = np.abs(librosa.stft(X))\n",
    "    \n",
    "    mfccs = extract_mfccs(X, sample_rate)\n",
    "    mfcc_whole_audio = np.mean(librosa.feature.mfcc(y=X, sr=sample_rate, n_mfcc=40).T,axis=0)\n",
    "    chroma = np.mean(librosa.feature.chroma_stft(S=stft, sr=sample_rate).T,axis=0)\n",
    "    mel = np.mean(librosa.feature.melspectrogram(X, sr=sample_rate).T,axis=0)\n",
    "    contrast = np.mean(librosa.feature.spectral_contrast(S=stft, sr=sample_rate).T,axis=0)\n",
    "    tonnetz = np.mean(librosa.feature.tonnetz(y=librosa.effects.harmonic(X), sr=sample_rate).T,axis=0)\n",
    "    \n",
    "    zero_crossing_rate = np.mean(librosa.feature.zero_crossing_rate\n",
    "(y=X).T, axis=0)\n",
    "    return mfccs, mfcc_whole_audio, chroma,mel,contrast,tonnetz,zero_crossing_rate\n",
    "\n",
    "def parse_audio_files(parent_dir, sub_dirs, file_ext='*.wav'):\n",
    "    \n",
    "#     +32 -40 +360\n",
    "    features, labels = np.empty((0, 594)), np.empty(0)\n",
    "    for _, sub_dir in enumerate(sub_dirs):\n",
    "        \n",
    "        print(\"Working on %s\" % sub_dir)\n",
    "        for cnt, fn in enumerate(glob.glob(os.path.join(parent_dir, sub_dir, file_ext))):\n",
    "            mfccs, mfcc_whole_audio, chroma, mel, contrast,tonnetz, zero_crossing_rate = extract_feature(fn)\n",
    "            ext_features = np.hstack([mfccs,mfcc_whole_audio,chroma,mel,contrast,tonnetz, zero_crossing_rate])\n",
    "            features = np.vstack([features, ext_features])\n",
    "            labels = np.append(labels, class_labels[sub_dir])\n",
    "            \n",
    "            if cnt > 0 and cnt % 200 == 0:\n",
    "                print(\"Processed %d files\" % cnt)\n",
    "            \n",
    "    return np.array(features), np.array(labels, dtype = np.int)"
   ]
  },
  {
   "cell_type": "code",
   "execution_count": 4,
   "metadata": {
    "collapsed": false,
    "deletable": true,
    "editable": true
   },
   "outputs": [
    {
     "name": "stdout",
     "output_type": "stream",
     "text": [
      "Working on down\n"
     ]
    },
    {
     "name": "stderr",
     "output_type": "stream",
     "text": [
      "/Library/Frameworks/Python.framework/Versions/3.5/lib/python3.5/site-packages/librosa/core/pitch.py:145: UserWarning: Trying to estimate tuning from empty frequency set.\n",
      "  warnings.warn('Trying to estimate tuning from empty frequency set.')\n"
     ]
    },
    {
     "name": "stdout",
     "output_type": "stream",
     "text": [
      "Processed 200 files\n",
      "Processed 400 files\n",
      "Processed 600 files\n",
      "Processed 800 files\n",
      "Processed 1000 files\n",
      "Processed 1200 files\n",
      "Processed 1400 files\n",
      "Processed 1600 files\n",
      "Processed 1800 files\n",
      "Processed 2000 files\n",
      "Processed 2200 files\n",
      "Working on up\n",
      "Processed 200 files\n",
      "Processed 400 files\n",
      "Processed 600 files\n",
      "Processed 800 files\n",
      "Processed 1000 files\n",
      "Processed 1200 files\n",
      "Processed 1400 files\n",
      "Processed 1600 files\n",
      "Processed 1800 files\n",
      "Processed 2000 files\n",
      "Processed 2200 files\n",
      "Working on on\n",
      "Processed 200 files\n",
      "Processed 400 files\n",
      "Processed 600 files\n",
      "Processed 800 files\n",
      "Processed 1000 files\n",
      "Processed 1200 files\n",
      "Processed 1400 files\n",
      "Processed 1600 files\n",
      "Processed 1800 files\n",
      "Processed 2000 files\n",
      "Processed 2200 files\n",
      "Working on off\n",
      "Processed 200 files\n",
      "Processed 400 files\n",
      "Processed 600 files\n",
      "Processed 800 files\n",
      "Processed 1000 files\n",
      "Processed 1200 files\n",
      "Processed 1400 files\n",
      "Processed 1600 files\n",
      "Processed 1800 files\n",
      "Processed 2000 files\n",
      "Processed 2200 files\n",
      "Working on left\n",
      "Processed 200 files\n",
      "Processed 400 files\n",
      "Processed 600 files\n",
      "Processed 800 files\n",
      "Processed 1000 files\n",
      "Processed 1200 files\n",
      "Processed 1400 files\n",
      "Processed 1600 files\n",
      "Processed 1800 files\n",
      "Processed 2000 files\n",
      "Processed 2200 files\n",
      "Working on right\n",
      "Processed 200 files\n",
      "Processed 400 files\n",
      "Processed 600 files\n",
      "Processed 800 files\n",
      "Processed 1000 files\n",
      "Processed 1200 files\n",
      "Processed 1400 files\n",
      "Processed 1600 files\n",
      "Processed 1800 files\n",
      "Processed 2000 files\n",
      "Processed 2200 files\n"
     ]
    }
   ],
   "source": [
    "parent_dir = 'dataset'\n",
    "\n",
    "sub_dirs = ['down', 'up', 'on', 'off', 'left', 'right']\n",
    "\n",
    "features, labels = parse_audio_files(parent_dir, sub_dirs)"
   ]
  },
  {
   "cell_type": "code",
   "execution_count": 8,
   "metadata": {
    "collapsed": true,
    "deletable": true,
    "editable": true
   },
   "outputs": [],
   "source": [
    "np.savetxt(\"ml_features.csv\", features, delimiter=\",\")\n",
    "np.savetxt(\"ml_labels.csv\", labels, delimiter=\",\")"
   ]
  },
  {
   "cell_type": "code",
   "execution_count": 146,
   "metadata": {
    "collapsed": true,
    "deletable": true,
    "editable": true
   },
   "outputs": [],
   "source": [
    "from sklearn.model_selection import train_test_split\n",
    "\n",
    "X_all, _, y_all, _ = train_test_split(\n",
    "    features, labels, stratify=labels, train_size=0.5, random_state=42)"
   ]
  },
  {
   "cell_type": "code",
   "execution_count": 199,
   "metadata": {
    "collapsed": false,
    "deletable": true,
    "editable": true
   },
   "outputs": [
    {
     "name": "stdout",
     "output_type": "stream",
     "text": [
      "[2359, 2372, 2353, 2367, 2375]\n"
     ]
    },
    {
     "data": {
      "text/plain": [
       "(array([1, 1, 0, 1, 2]),\n",
       " array([ 2353. ,  2357.4,  2361.8,  2366.2,  2370.6,  2375. ]))"
      ]
     },
     "execution_count": 199,
     "metadata": {},
     "output_type": "execute_result"
    }
   ],
   "source": [
    "\n",
    "\n",
    "cnt = list(map(lambda x: labels.tolist().count(x), [i for i in range(5)]))\n",
    "print(cnt)\n",
    "np.histogram(cnt, bins=5)"
   ]
  },
  {
   "cell_type": "code",
   "execution_count": 147,
   "metadata": {
    "collapsed": false,
    "deletable": true,
    "editable": true
   },
   "outputs": [
    {
     "name": "stdout",
     "output_type": "stream",
     "text": [
      "(5913, 594)\n",
      "(5913,)\n",
      "(5321, 594)\n",
      "(592, 594)\n",
      "(5321,)\n",
      "(592,)\n",
      "[2 2 2 ..., 0 1 4]\n"
     ]
    }
   ],
   "source": [
    "print(X_all.shape)\n",
    "print(y_all.shape)\n",
    "\n",
    "\n",
    "X_train, X_test, y_train, y_test = train_test_split(\n",
    "    X_all, y_all, stratify=y_all, train_size=0.9, random_state=42)\n",
    "print(X_train.shape)\n",
    "print(X_test.shape)\n",
    "print(y_train.shape)\n",
    "print(y_test.shape)\n",
    "\n",
    "print(y_train)"
   ]
  },
  {
   "cell_type": "code",
   "execution_count": 158,
   "metadata": {
    "collapsed": false,
    "deletable": true,
    "editable": true
   },
   "outputs": [
    {
     "name": "stdout",
     "output_type": "stream",
     "text": [
      "(10643, 594)\n",
      "Training set score: 0.997\n",
      "Test set score: 0.831\n"
     ]
    }
   ],
   "source": [
    "from sklearn.svm import SVC\n",
    "\n",
    "X_train, X_test, y_train, y_test = train_test_split(\n",
    "    features, labels, stratify=labels, train_size=0.9, random_state=42)\n",
    "\n",
    "print(X_train.shape)\n",
    "clf = SVC(kernel='rbf', C=10, gamma=0.1, decision_function_shape='ovo')\n",
    "clf.fit(X_train, y_train)\n",
    "\n",
    "print(\"Training set score: {:.3f}\".format(clf.score(X_train, y_train)))\n",
    "print(\"Test set score: {:.3f}\".format(clf.score(X_test, y_test)))"
   ]
  },
  {
   "cell_type": "code",
   "execution_count": 156,
   "metadata": {
    "collapsed": false,
    "deletable": true,
    "editable": true
   },
   "outputs": [
    {
     "name": "stdout",
     "output_type": "stream",
     "text": [
      "[[196  22   4   8   6]\n",
      " [ 21 195   3   5  13]\n",
      " [ 13  10 187  15  10]\n",
      " [  8  10  12 202   5]\n",
      " [  5  14  13   3 203]]\n",
      "[0.831, 0.093, 0.017, 0.034, 0.025]\n",
      "[0.089, 0.823, 0.013, 0.021, 0.055]\n",
      "[0.055, 0.043, 0.796, 0.064, 0.043]\n",
      "[0.034, 0.042, 0.051, 0.852, 0.021]\n",
      "[0.021, 0.059, 0.055, 0.013, 0.853]\n"
     ]
    }
   ],
   "source": [
    "from sklearn.metrics import confusion_matrix\n",
    "\n",
    "y_test_pred = clf.predict(X_test)\n",
    "\n",
    "conf_mat = confusion_matrix(y_test, y_test_pred)\n",
    "\n",
    "print(conf_mat)\n",
    "for idx, arr in enumerate(conf_mat):\n",
    "    print(list(map(lambda d: float(format(d/sum(arr), '.3f')), arr)))"
   ]
  },
  {
   "cell_type": "code",
   "execution_count": null,
   "metadata": {
    "collapsed": false,
    "deletable": true,
    "editable": true,
    "scrolled": true
   },
   "outputs": [],
   "source": [
    "from sklearn.model_selection import GridSearchCV\n",
    "\n",
    "param_grid = {'C': [0.001, 0.01, 0.1, 1, 10],\n",
    "              'gamma': [0.001, 0.01, 0.1, 1, 10]}\n",
    "\n",
    "clf = SVC(kernel='rbf')\n",
    "\n",
    "grid_search = GridSearchCV(clf, param_grid, cv=5, verbose=100)\n",
    "\n",
    "grid_search.fit(X_train, y_train)\n",
    "\n",
    "print(\"Test set score: {:.3f}\".format(grid_search.score(X_test, y_test)))\n",
    "print(\"Best parameters: {}\".format(grid_search.best_params_))\n",
    "print(\"Best cross-validation score: {:.2f}\".format(grid_search.best_score_))\n",
    "print(\"Best estimator:\\n{}\".format(grid_search.best_estimator_))"
   ]
  },
  {
   "cell_type": "code",
   "execution_count": 149,
   "metadata": {
    "collapsed": false,
    "deletable": true,
    "editable": true
   },
   "outputs": [
    {
     "name": "stderr",
     "output_type": "stream",
     "text": [
      "/Library/Frameworks/Python.framework/Versions/3.5/lib/python3.5/site-packages/matplotlib/font_manager.py:1288: UserWarning: findfont: Font family ['serif'] not found. Falling back to Bitstream Vera Sans\n",
      "  (prop.get_family(), self.defaultFamily[fontext]))\n"
     ]
    },
    {
     "data": {
      "image/png": "[encoded data removed]",
      "text/plain": [
       "<matplotlib.figure.Figure at 0x1244b7e48>"
      ]
     },
     "metadata": {},
     "output_type": "display_data"
    }
   ],
   "source": [
    "import pandas as pd\n",
    "from mglearn.tools import heatmap\n",
    "# convert to Dataframe\n",
    "results = pd.DataFrame(grid_search.cv_results_)\n",
    "\n",
    "scores = np.array(results.mean_test_score).reshape(5, 5)\n",
    "# plot the mean cross-validation scores\n",
    "heatmap(scores, xlabel='gamma', xticklabels=param_grid['gamma'],\n",
    "                      ylabel='C', yticklabels=param_grid['C'], cmap=\"viridis\");"
   ]
  }
 ],
 "metadata": {
  "celltoolbar": "Raw Cell Format",
  "kernelspec": {
   "display_name": "Python 3",
   "language": "python",
   "name": "python3"
  },
  "language_info": {
   "codemirror_mode": {
    "name": "ipython",
    "version": 3
   },
   "file_extension": ".py",
   "mimetype": "text/x-python",
   "name": "python",
   "nbconvert_exporter": "python",
   "pygments_lexer": "ipython3",
   "version": "3.5.2"
  }
 },
 "nbformat": 4,
 "nbformat_minor": 2
}
