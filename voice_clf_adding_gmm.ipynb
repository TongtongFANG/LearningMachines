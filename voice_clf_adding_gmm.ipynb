{
 "cells": [
  {
   "cell_type": "code",
   "execution_count": 1,
   "metadata": {
    "collapsed": true
   },
   "outputs": [],
   "source": [
    "import glob\n",
    "import os\n",
    "import librosa\n",
    "import numpy as np\n",
    "import matplotlib.pyplot as plt\n",
    "%matplotlib inline"
   ]
  },
  {
   "cell_type": "code",
   "execution_count": 23,
   "metadata": {
    "collapsed": true
   },
   "outputs": [],
   "source": [
    "def gen_mfcc_fn(fn, mfcc_window_size, mfcc_stride_size):\n",
    "    \n",
    "    X, sample_rate = librosa.load(fn, sr=None, mono=True)\n",
    "    if sample_rate != 16000:\n",
    "        return\n",
    "    \n",
    "    mfcc = librosa.feature.mfcc(X, sample_rate, \n",
    "                            n_fft=int(mfcc_window_size * sample_rate), \n",
    "                            hop_length=int(mfcc_stride_size * sample_rate))\n",
    "    \n",
    "    return mfcc.T\n",
    "\n",
    "def generate_mfccs_for_gmm(parent_dir, \n",
    "                     sub_dirs, \n",
    "                     file_ext='*.wav', \n",
    "                     mfcc_window_size=0.02, mfcc_stride_size=0.01):\n",
    "    \n",
    "    mfccs = np.empty((0, 20))\n",
    "    \n",
    "    for label, sub_dir in enumerate(sub_dirs):\n",
    "        cnt = 0\n",
    "        for fn in glob.glob(os.path.join(parent_dir, sub_dir, file_ext)):\n",
    "            \n",
    "            mfcc = gen_mfcc_fn(fn, mfcc_window_size, mfcc_stride_size)\n",
    "            if mfcc is None:\n",
    "                continue\n",
    "            \n",
    "            mfccs = np.vstack([mfccs, mfcc])\n",
    "            cnt+=1\n",
    "            if cnt >= 200:\n",
    "                break\n",
    "                \n",
    "    return mfccs"
   ]
  },
  {
   "cell_type": "code",
   "execution_count": 24,
   "metadata": {
    "collapsed": false,
    "scrolled": true
   },
   "outputs": [
    {
     "name": "stderr",
     "output_type": "stream",
     "text": [
      "/Library/Frameworks/Python.framework/Versions/3.5/lib/python3.5/site-packages/librosa/filters.py:261: UserWarning: Empty filters detected in mel frequency basis. Some channels will produce empty responses. Try increasing your sampling rate (and fmax) or reducing n_mels.\n",
      "  warnings.warn('Empty filters detected in mel frequency basis. '\n"
     ]
    },
    {
     "name": "stdout",
     "output_type": "stream",
     "text": [
      "(99040, 20)\n"
     ]
    }
   ],
   "source": [
    "parent_dir = 'dataset'\n",
    "tr_sub_dirs = [\"down\",\"go\",\"left\",\"right\",\"up\"]\n",
    "\n",
    "mfccs_for_gmm = generate_mfccs_for_gmm(parent_dir, tr_sub_dirs)\n",
    "print(mfccs_for_gmm.shape)"
   ]
  },
  {
   "cell_type": "code",
   "execution_count": 67,
   "metadata": {
    "collapsed": false
   },
   "outputs": [
    {
     "name": "stdout",
     "output_type": "stream",
     "text": [
      "Initialization 0\n",
      "  Iteration 0\t time lapse 16.94435s\t ll change inf\n",
      "  Iteration 10\t time lapse 44.86399s\t ll change 0.20281\n",
      "  Iteration 20\t time lapse 41.94040s\t ll change 0.03578\n",
      "  Iteration 30\t time lapse 39.78639s\t ll change 0.01550\n",
      "  Iteration 40\t time lapse 38.26863s\t ll change 0.00683\n",
      "  Iteration 50\t time lapse 38.23383s\t ll change 0.01130\n",
      "  Iteration 60\t time lapse 38.40861s\t ll change 0.01382\n",
      "  Iteration 70\t time lapse 38.66422s\t ll change 0.00916\n",
      "  Iteration 80\t time lapse 39.44960s\t ll change 0.00421\n",
      "  Iteration 90\t time lapse 38.62749s\t ll change 0.00607\n",
      "Initialization converged: False\t time lapse 409.47151s\t ll -69.35460\n"
     ]
    },
    {
     "name": "stderr",
     "output_type": "stream",
     "text": [
      "/Library/Frameworks/Python.framework/Versions/3.5/lib/python3.5/site-packages/sklearn/mixture/base.py:237: ConvergenceWarning: Initialization 1 did not converged. Try different init parameters, or increase max_iter, tol or check for degenerate data.\n",
      "  % (init + 1), ConvergenceWarning)\n"
     ]
    },
    {
     "data": {
      "text/plain": [
       "GaussianMixture(covariance_type='full', init_params='kmeans', max_iter=100,\n",
       "        means_init=None, n_components=64, n_init=1, precisions_init=None,\n",
       "        random_state=None, reg_covar=1e-06, tol=0.001, verbose=10,\n",
       "        verbose_interval=10, warm_start=False, weights_init=None)"
      ]
     },
     "execution_count": 67,
     "metadata": {},
     "output_type": "execute_result"
    }
   ],
   "source": [
    "from sklearn.mixture import GaussianMixture\n",
    "\n",
    "gmm = GaussianMixture(n_components=64, verbose=10)\n",
    "gmm.fit(mfccs_for_gmm)"
   ]
  },
  {
   "cell_type": "code",
   "execution_count": 70,
   "metadata": {
    "collapsed": true
   },
   "outputs": [],
   "source": [
    "def segment_window(audio_len, segment_len, segment_stride):\n",
    "    \n",
    "    start = 0\n",
    "    while start < audio_len:\n",
    "        yield start, start + segment_len\n",
    "        start += segment_stride\n",
    "\n",
    "class_labels = {\n",
    "    'down' : 0,\n",
    "    'go'   : 1,\n",
    "    'left' : 2,\n",
    "    'right': 3,\n",
    "    'up'   : 4\n",
    "}\n",
    "\n",
    "def generate_labels(sub_dir):\n",
    "\n",
    "    return class_labels[sub_dir]\n",
    "\n",
    "def generate_F_features(parent_dir, \n",
    "                             sub_dirs,\n",
    "                             file_ext='*.wav', \n",
    "                             mfcc_window_size=0.02, \n",
    "                             mfcc_stride_size=0.01):\n",
    "    \n",
    "    F_features, labels = np.empty((0, 19*64)), np.array([])\n",
    "\n",
    "    for label, sub_dir in enumerate(sub_dirs):\n",
    "        \n",
    "        cnt = 0\n",
    "        for fn in glob.glob(os.path.join(parent_dir, sub_dir, file_ext)):\n",
    "            \n",
    "            X, sample_rate = librosa.load(fn, sr=None, mono=True)\n",
    "            if sample_rate != 16000:\n",
    "                continue\n",
    "\n",
    "            segment_len = int(X.size / 10)\n",
    "            segment_stride = int(segment_len/2)\n",
    "            \n",
    "            file_F_features = np.empty((0, 64))\n",
    "            for start, end in segment_window(X.size, segment_len, segment_stride):\n",
    "                \n",
    "                if X[start:end].size != segment_len:\n",
    "                    continue\n",
    "                segment_mfccs = librosa.feature.mfcc(X[start:end], sample_rate, \n",
    "                                    n_fft=int(mfcc_window_size * sample_rate), \n",
    "                                    hop_length=int(mfcc_stride_size * sample_rate))\n",
    "                \n",
    "                segment_F_features = np.sum(gmm.predict_proba(segment_mfccs.T), axis=0) \\\n",
    "                                        / (segment_mfccs.shape[1])\n",
    "                    \n",
    "                file_F_features = np.vstack([file_F_features, segment_F_features])\n",
    "            \n",
    "            labels = np.append(labels, generate_labels(sub_dir))\n",
    "            F_features = np.vstack([F_features, file_F_features.reshape(-1)])\n",
    "            \n",
    "#             F_features.append(file_F_features)\n",
    "        \n",
    "    print(\"Finished!\")\n",
    "    return np.array(F_features), np.array(labels, dtype=np.int)"
   ]
  },
  {
   "cell_type": "code",
   "execution_count": 71,
   "metadata": {
    "collapsed": false,
    "scrolled": true
   },
   "outputs": [
    {
     "name": "stderr",
     "output_type": "stream",
     "text": [
      "/Library/Frameworks/Python.framework/Versions/3.5/lib/python3.5/site-packages/librosa/filters.py:261: UserWarning: Empty filters detected in mel frequency basis. Some channels will produce empty responses. Try increasing your sampling rate (and fmax) or reducing n_mels.\n",
      "  warnings.warn('Empty filters detected in mel frequency basis. '\n"
     ]
    },
    {
     "name": "stdout",
     "output_type": "stream",
     "text": [
      "Finished!\n"
     ]
    }
   ],
   "source": [
    "parent_dir = 'dataset'\n",
    "tr_sub_dirs = [\"down\",\"go\",\"left\",\"right\",\"up\"]\n",
    "\n",
    "X_all, y_all = generate_F_features(parent_dir, tr_sub_dirs)"
   ]
  },
  {
   "cell_type": "code",
   "execution_count": 76,
   "metadata": {
    "collapsed": false
   },
   "outputs": [
    {
     "name": "stdout",
     "output_type": "stream",
     "text": [
      "(11826, 1216)\n",
      "(11826,)\n"
     ]
    }
   ],
   "source": [
    "print(X_all.shape)\n",
    "print(y_all.shape)"
   ]
  },
  {
   "cell_type": "code",
   "execution_count": 77,
   "metadata": {
    "collapsed": true
   },
   "outputs": [],
   "source": [
    "np.savetxt(\"gmm_features.csv\", X_all, delimiter=\",\")\n",
    "np.savetxt(\"gmm_labels.csv\", y_all, delimiter=\",\")"
   ]
  },
  {
   "cell_type": "code",
   "execution_count": 82,
   "metadata": {
    "collapsed": false
   },
   "outputs": [
    {
     "name": "stdout",
     "output_type": "stream",
     "text": [
      "(9460, 1216)\n",
      "(9460,)\n",
      "(2366, 1216)\n",
      "(2366,)\n"
     ]
    }
   ],
   "source": [
    "\n",
    "from sklearn.model_selection import train_test_split\n",
    "\n",
    "X_train, X_test, y_train, y_test = train_test_split(\n",
    "    X_all, y_all, stratify=y_all, train_size=0.8, random_state=100)\n",
    "\n",
    "print(X_train.shape)\n",
    "print(y_train.shape)\n",
    "print(X_test.shape)\n",
    "print(y_test.shape)"
   ]
  },
  {
   "cell_type": "code",
   "execution_count": 83,
   "metadata": {
    "collapsed": false
   },
   "outputs": [
    {
     "name": "stdout",
     "output_type": "stream",
     "text": [
      "Training set score: 1.000\n",
      "Test set score: 0.685\n"
     ]
    }
   ],
   "source": [
    "from sklearn.svm import SVC\n",
    "\n",
    "clf = SVC(kernel='rbf', C=5, gamma=1)\n",
    "clf.fit(X_train, y_train)\n",
    "\n",
    "print(\"Training set score: {:.3f}\".format(clf.score(X_train, y_train)))\n",
    "print(\"Test set score: {:.3f}\".format(clf.score(X_test, y_test)))"
   ]
  },
  {
   "cell_type": "code",
   "execution_count": null,
   "metadata": {
    "collapsed": true
   },
   "outputs": [],
   "source": []
  }
 ],
 "metadata": {
  "kernelspec": {
   "display_name": "Python 3",
   "language": "python",
   "name": "python3"
  },
  "language_info": {
   "codemirror_mode": {
    "name": "ipython",
    "version": 3
   },
   "file_extension": ".py",
   "mimetype": "text/x-python",
   "name": "python",
   "nbconvert_exporter": "python",
   "pygments_lexer": "ipython3",
   "version": "3.5.2"
  }
 },
 "nbformat": 4,
 "nbformat_minor": 2
}
