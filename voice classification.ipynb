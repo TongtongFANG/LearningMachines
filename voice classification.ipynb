{
 "cells": [
  {
   "cell_type": "code",
   "execution_count": 3,
   "metadata": {
    "collapsed": true,
    "deletable": true,
    "editable": true
   },
   "outputs": [],
   "source": [
    "import glob\n",
    "import os\n",
    "import librosa\n",
    "import numpy as np\n",
    "import matplotlib.pyplot as plt\n",
    "from matplotlib.pyplot import specgram\n",
    "%matplotlib inline\n",
    "plt.style.use('ggplot')\n",
    "\n",
    "plt.rcParams['font.family'] = 'serif'\n",
    "plt.rcParams['font.serif'] = 'Ubuntu'\n",
    "plt.rcParams['font.monospace'] = 'Ubuntu Mono'\n",
    "plt.rcParams['font.size'] = 12\n",
    "plt.rcParams['axes.labelsize'] = 11\n",
    "plt.rcParams['axes.labelweight'] = 'bold'\n",
    "plt.rcParams['axes.titlesize'] = 14\n",
    "plt.rcParams['xtick.labelsize'] = 10\n",
    "plt.rcParams['ytick.labelsize'] = 10\n",
    "plt.rcParams['legend.fontsize'] = 11\n",
    "plt.rcParams['figure.titlesize'] = 13"
   ]
  },
  {
   "cell_type": "code",
   "execution_count": 4,
   "metadata": {
    "collapsed": true,
    "deletable": true,
    "editable": true
   },
   "outputs": [],
   "source": [
    "\n",
    "def load_sound_files(file_paths):\n",
    "    raw_sounds = []\n",
    "    for fp in file_paths:\n",
    "        X,sr = librosa.load(fp, sr=None)\n",
    "        \n",
    "        print('extracting %s' % (fp), len(X), sr)\n",
    "        raw_sounds.append(X)\n",
    "    return raw_sounds\n",
    "\n",
    "def plot_waves(sound_names,raw_sounds):\n",
    "    \n",
    "    print(\"In plot_waves\")\n",
    "    i = 1\n",
    "    fig = plt.figure(figsize=(25,60), dpi = 900)\n",
    "    for n,f in zip(sound_names,raw_sounds):\n",
    "        print(\"plotting\", n, f)\n",
    "        plt.subplot(10,1,i)\n",
    "        librosa.display.waveplot(np.array(f), sr=16000)\n",
    "        plt.title(n.title())\n",
    "        i += 1\n",
    "        \n",
    "    print(\"after for\")\n",
    "    plt.suptitle('Figure 1: Waveplot',x=0.5, y=0.915,fontsize=18)\n",
    "    plt.show()\n",
    "    \n",
    "def plot_specgram(sound_names,raw_sounds):\n",
    "    i = 1\n",
    "    fig = plt.figure(figsize=(25,60), dpi = 900)\n",
    "    for n,f in zip(sound_names,raw_sounds):\n",
    "        plt.subplot(10,1,i)\n",
    "        specgram(np.array(f), Fs=16000)\n",
    "        plt.title(n.title())\n",
    "        i += 1\n",
    "    plt.suptitle('Figure 2: Spectrogram',x=0.5, y=0.915,fontsize=18)\n",
    "    plt.show()\n",
    "\n",
    "def plot_log_power_specgram(sound_names,raw_sounds):\n",
    "    i = 1\n",
    "    fig = plt.figure(figsize=(25,60), dpi = 900)\n",
    "    for n,f in zip(sound_names,raw_sounds):\n",
    "        plt.subplot(10,1,i)\n",
    "        D = librosa.logamplitude(np.abs(librosa.stft(f))**2, ref_power=np.max)\n",
    "        librosa.display.specshow(D,x_axis='time' ,y_axis='log')\n",
    "        plt.title(n.title())\n",
    "        i += 1\n",
    "    plt.suptitle('Figure 3: Log power spectrogram',x=0.5, y=0.915,fontsize=18)\n",
    "    plt.show()"
   ]
  },
  {
   "cell_type": "code",
   "execution_count": null,
   "metadata": {
    "collapsed": false,
    "deletable": true,
    "editable": true
   },
   "outputs": [],
   "source": [
    "# plot_waves(sound_class_names, raw_sounds)\n",
    "\n",
    "\n",
    "# plot_log_power_specgram(sound_class_names, raw_sounds)"
   ]
  },
  {
   "cell_type": "code",
   "execution_count": null,
   "metadata": {
    "collapsed": false,
    "deletable": true,
    "editable": true
   },
   "outputs": [
    {
     "name": "stdout",
     "output_type": "stream",
     "text": [
      "['./dataset/down/0c5027de_nohash_0.wav', './dataset/go/0d2bcf9d_nohash_0.wav', './dataset/left/0f7205ef_nohash_0.wav', './dataset/right/4c7c95de_nohash_1.wav', './dataset/up/7b2e879e_nohash_0.wav']\n",
      "extracting ./dataset/down/0c5027de_nohash_0.wav 16000 16000\n",
      "extracting ./dataset/go/0d2bcf9d_nohash_0.wav 16000 16000\n",
      "extracting ./dataset/left/0f7205ef_nohash_0.wav 16000 16000\n",
      "extracting ./dataset/right/4c7c95de_nohash_1.wav 16000 16000\n",
      "extracting ./dataset/up/7b2e879e_nohash_0.wav 16000 16000\n",
      "5\n"
     ]
    }
   ],
   "source": [
    "file_folder = './dataset'\n",
    "\n",
    "\n",
    "sound_file_names = [\"0c5027de_nohash_0.wav\",\n",
    "                    \"0d2bcf9d_nohash_0.wav\",\n",
    "                    \"0f7205ef_nohash_0.wav\",\n",
    "                    \"4c7c95de_nohash_1.wav\",\n",
    "                    \"7b2e879e_nohash_0.wav\"]\n",
    "\n",
    "sound_class_names = [\"down\",\"go\",\"left\",\"right\",\"up\"]\n",
    "\n",
    "sound_file_paths = list(map(lambda f_tup: os.path.join(file_folder, f_tup[0], f_tup[1]), \n",
    "                            zip(sound_class_names, sound_file_names)))\n",
    "\n",
    "\n",
    "print(sound_file_paths)\n",
    "raw_sounds = load_sound_files(sound_file_paths)\n",
    "print(len(raw_sounds))\n",
    "\n",
    "plot_specgram(sound_class_names, raw_sounds)\n",
    "# print(raw_sounds)"
   ]
  },
  {
   "cell_type": "code",
   "execution_count": 110,
   "metadata": {
    "collapsed": true,
    "deletable": true,
    "editable": true
   },
   "outputs": [],
   "source": [
    "class_labels = {\n",
    "    'down' : 0,\n",
    "    'go'   : 1,\n",
    "    'left' : 2,\n",
    "    'right': 3,\n",
    "    'up'   : 4\n",
    "}\n",
    "\n",
    "def windows(data, window_size):\n",
    "    start = 0\n",
    "    while start < len(data):\n",
    "        yield int(start), int(start + window_size)\n",
    "        start += window_size\n",
    "\n",
    "def extract_mfccs(X, sample_rate, time_interval=0.1, num_mfcc=40):\n",
    "    \n",
    "    mfccs = np.array([])\n",
    "    window_size = int(len(X) / 10)\n",
    "    \n",
    "    for (start,end) in windows(X, window_size):\n",
    "        if len(X[start:end]) != window_size:\n",
    "            continue\n",
    "        mfcc = np.mean(librosa.feature.mfcc(y=X[start:end], sr=sample_rate, n_mfcc=num_mfcc).T,axis=0)\n",
    "        \n",
    "        mfccs = np.append(mfccs, mfcc)\n",
    "    \n",
    "    return mfccs\n",
    "\n",
    "def extract_feature(file_name):\n",
    "    X, sample_rate = librosa.load(file_name, sr=None)\n",
    "    stft = np.abs(librosa.stft(X))\n",
    "    \n",
    "    mfccs = extract_mfccs(X, sample_rate)\n",
    "    mfcc_whole_audio = np.mean(librosa.feature.mfcc(y=X, sr=sample_rate, n_mfcc=40).T,axis=0)\n",
    "    chroma = np.mean(librosa.feature.chroma_stft(S=stft, sr=sample_rate).T,axis=0)\n",
    "    mel = np.mean(librosa.feature.melspectrogram(X, sr=sample_rate).T,axis=0)\n",
    "    contrast = np.mean(librosa.feature.spectral_contrast(S=stft, sr=sample_rate).T,axis=0)\n",
    "    tonnetz = np.mean(librosa.feature.tonnetz(y=librosa.effects.harmonic(X), sr=sample_rate).T,axis=0)\n",
    "    \n",
    "    zero_crossing_rate = np.mean(librosa.feature.zero_crossing_rate\n",
    "(y=X).T, axis=0)\n",
    "    return mfccs, mfcc_whole_audio, chroma,mel,contrast,tonnetz,zero_crossing_rate\n",
    "\n",
    "def parse_audio_files(parent_dir, sub_dirs, file_ext='*.wav'):\n",
    "    \n",
    "#     +32 -40 +360\n",
    "    features, labels = np.empty((0, 594)), np.empty(0)\n",
    "    for label, sub_dir in enumerate(sub_dirs):\n",
    "        \n",
    "        for fn in glob.glob(os.path.join(parent_dir, sub_dir, file_ext)):\n",
    "            mfccs, mfcc_whole_audio, chroma, mel, contrast,tonnetz, zero_crossing_rate = extract_feature(fn)\n",
    "            ext_features = np.hstack([mfccs,mfcc_whole_audio,chroma,mel,contrast,tonnetz, zero_crossing_rate])\n",
    "            features = np.vstack([features, ext_features])\n",
    "            labels = np.append(labels, class_labels[sub_dir])\n",
    "            \n",
    "    return np.array(features), np.array(labels, dtype = np.int)"
   ]
  },
  {
   "cell_type": "code",
   "execution_count": 111,
   "metadata": {
    "collapsed": false,
    "deletable": true,
    "editable": true
   },
   "outputs": [
    {
     "name": "stderr",
     "output_type": "stream",
     "text": [
      "/Library/Frameworks/Python.framework/Versions/3.5/lib/python3.5/site-packages/librosa/core/pitch.py:145: UserWarning: Trying to estimate tuning from empty frequency set.\n",
      "  warnings.warn('Trying to estimate tuning from empty frequency set.')\n"
     ]
    }
   ],
   "source": [
    "parent_dir = 'dataset'\n",
    "\n",
    "sub_dirs = ['down','go','left', 'right', 'up']\n",
    "\n",
    "features, labels = parse_audio_files(parent_dir, sub_dirs)"
   ]
  },
  {
   "cell_type": "code",
   "execution_count": 142,
   "metadata": {
    "collapsed": false,
    "deletable": true,
    "editable": true
   },
   "outputs": [
    {
     "name": "stdout",
     "output_type": "stream",
     "text": [
      "(11826, 594)\n",
      "(11826,)\n",
      "(594,)\n",
      "(594,)\n",
      "(11826, 594)\n",
      "(11826,)\n"
     ]
    },
    {
     "data": {
      "image/png": "[encoded data removed]",
      "text/plain": [
       "<matplotlib.figure.Figure at 0x114f657f0>"
      ]
     },
     "metadata": {},
     "output_type": "display_data"
    }
   ],
   "source": [
    "print(features.shape)\n",
    "print(labels.shape)\n",
    "\n",
    "plt.plot(features.min(axis=0), 'o', label=\"min\")\n",
    "plt.plot(features.max(axis=0), '^', label=\"max\")\n",
    "plt.legend(loc=4)\n",
    "plt.xlabel(\"Feature index\")\n",
    "plt.ylabel(\"Feature magnitude\")\n",
    " # Compute the minimum value per feature on the training set\n",
    "min_on_training = features.min(axis=0)  \n",
    "print((min_on_training.shape))\n",
    "# Compute the range of each feature (max - min) on the training set\n",
    "range_on_training = (features - min_on_training).max(axis=0)\n",
    "print((range_on_training.shape))\n",
    "\n",
    "features = (features - min_on_training) / range_on_training\n",
    "\n",
    "print(features.shape)\n",
    "print(labels.shape)\n",
    "\n",
    "import matplotlib.pyplot as plt\n",
    "\n",
    "# plt.plot(features.min(axis=0), 'o', label=\"min\")\n",
    "# plt.plot(features.max(axis=0), '^', label=\"max\")\n",
    "# plt.legend(loc=4)\n",
    "# plt.xlabel(\"Feature index\")\n",
    "# plt.ylabel(\"Feature magnitude\")\n",
    "\n",
    "plt.show()"
   ]
  },
  {
   "cell_type": "code",
   "execution_count": 145,
   "metadata": {
    "collapsed": false,
    "deletable": true,
    "editable": true
   },
   "outputs": [],
   "source": [
    "np.savetxt(\"features.csv\", features, delimiter=\",\")\n",
    "np.savetxt(\"labels.csv\", labels, delimiter=\",\")"
   ]
  },
  {
   "cell_type": "code",
   "execution_count": 113,
   "metadata": {
    "collapsed": false,
    "deletable": true,
    "editable": true
   },
   "outputs": [
    {
     "data": {
      "text/plain": [
       "<matplotlib.text.Text at 0x115ca5fd0>"
      ]
     },
     "execution_count": 113,
     "metadata": {},
     "output_type": "execute_result"
    },
    {
     "data": {
      "image/png": "[encoded data removed]",
      "text/plain": [
       "<matplotlib.figure.Figure at 0x115c3ecc0>"
      ]
     },
     "metadata": {},
     "output_type": "display_data"
    }
   ],
   "source": [
    "plt.plot(features.min(axis=0), 'o', label=\"min\")\n",
    "plt.plot(features.max(axis=0), '^', label=\"max\")\n",
    "plt.legend(loc=4)\n",
    "plt.xlabel(\"Feature index\")\n",
    "plt.ylabel(\"Feature magnitude\")"
   ]
  },
  {
   "cell_type": "code",
   "execution_count": 146,
   "metadata": {
    "collapsed": false,
    "deletable": true,
    "editable": true
   },
   "outputs": [],
   "source": [
    "from sklearn.model_selection import train_test_split\n",
    "\n",
    "X_all, _, y_all, _ = train_test_split(\n",
    "    features, labels, stratify=labels, train_size=0.5, random_state=42)"
   ]
  },
  {
   "cell_type": "code",
   "execution_count": 199,
   "metadata": {
    "collapsed": false
   },
   "outputs": [
    {
     "name": "stdout",
     "output_type": "stream",
     "text": [
      "[2359, 2372, 2353, 2367, 2375]\n"
     ]
    },
    {
     "data": {
      "text/plain": [
       "(array([1, 1, 0, 1, 2]),\n",
       " array([ 2353. ,  2357.4,  2361.8,  2366.2,  2370.6,  2375. ]))"
      ]
     },
     "execution_count": 199,
     "metadata": {},
     "output_type": "execute_result"
    }
   ],
   "source": [
    "\n",
    "\n",
    "cnt = list(map(lambda x: labels.tolist().count(x), [i for i in range(5)]))\n",
    "print(cnt)\n",
    "np.histogram(cnt, bins=5)"
   ]
  },
  {
   "cell_type": "code",
   "execution_count": 147,
   "metadata": {
    "collapsed": false,
    "deletable": true,
    "editable": true
   },
   "outputs": [
    {
     "name": "stdout",
     "output_type": "stream",
     "text": [
      "(5913, 594)\n",
      "(5913,)\n",
      "(5321, 594)\n",
      "(592, 594)\n",
      "(5321,)\n",
      "(592,)\n",
      "[2 2 2 ..., 0 1 4]\n"
     ]
    }
   ],
   "source": [
    "print(X_all.shape)\n",
    "print(y_all.shape)\n",
    "\n",
    "\n",
    "X_train, X_test, y_train, y_test = train_test_split(\n",
    "    X_all, y_all, stratify=y_all, train_size=0.9, random_state=42)\n",
    "print(X_train.shape)\n",
    "print(X_test.shape)\n",
    "print(y_train.shape)\n",
    "print(y_test.shape)\n",
    "\n",
    "print(y_train)"
   ]
  },
  {
   "cell_type": "code",
   "execution_count": 158,
   "metadata": {
    "collapsed": false,
    "deletable": true,
    "editable": true
   },
   "outputs": [
    {
     "name": "stdout",
     "output_type": "stream",
     "text": [
      "(10643, 594)\n",
      "Training set score: 0.997\n",
      "Test set score: 0.831\n"
     ]
    }
   ],
   "source": [
    "from sklearn.svm import SVC\n",
    "\n",
    "X_train, X_test, y_train, y_test = train_test_split(\n",
    "    features, labels, stratify=labels, train_size=0.9, random_state=42)\n",
    "\n",
    "print(X_train.shape)\n",
    "clf = SVC(kernel='rbf', C=10, gamma=0.1, decision_function_shape='ovo')\n",
    "clf.fit(X_train, y_train)\n",
    "\n",
    "print(\"Training set score: {:.3f}\".format(clf.score(X_train, y_train)))\n",
    "print(\"Test set score: {:.3f}\".format(clf.score(X_test, y_test)))"
   ]
  },
  {
   "cell_type": "code",
   "execution_count": 156,
   "metadata": {
    "collapsed": false,
    "deletable": true,
    "editable": true
   },
   "outputs": [
    {
     "name": "stdout",
     "output_type": "stream",
     "text": [
      "[[196  22   4   8   6]\n",
      " [ 21 195   3   5  13]\n",
      " [ 13  10 187  15  10]\n",
      " [  8  10  12 202   5]\n",
      " [  5  14  13   3 203]]\n",
      "[0.831, 0.093, 0.017, 0.034, 0.025]\n",
      "[0.089, 0.823, 0.013, 0.021, 0.055]\n",
      "[0.055, 0.043, 0.796, 0.064, 0.043]\n",
      "[0.034, 0.042, 0.051, 0.852, 0.021]\n",
      "[0.021, 0.059, 0.055, 0.013, 0.853]\n"
     ]
    }
   ],
   "source": [
    "from sklearn.metrics import confusion_matrix\n",
    "\n",
    "y_test_pred = clf.predict(X_test)\n",
    "\n",
    "conf_mat = confusion_matrix(y_test, y_test_pred)\n",
    "\n",
    "print(conf_mat)\n",
    "for idx, arr in enumerate(conf_mat):\n",
    "    print(list(map(lambda d: float(format(d/sum(arr), '.3f')), arr)))"
   ]
  },
  {
   "cell_type": "code",
   "execution_count": 148,
   "metadata": {
    "collapsed": false,
    "deletable": true,
    "editable": true,
    "scrolled": true
   },
   "outputs": [
    {
     "name": "stdout",
     "output_type": "stream",
     "text": [
      "Fitting 5 folds for each of 25 candidates, totalling 125 fits\n",
      "[CV] gamma=0.001, C=0.001 ............................................\n",
      "[CV] ............. gamma=0.001, C=0.001, score=0.200750, total=  25.6s\n",
      "[Parallel(n_jobs=1)]: Done   1 out of   1 | elapsed:   38.2s remaining:    0.0s\n",
      "[CV] gamma=0.001, C=0.001 ............................................\n",
      "[CV] ............. gamma=0.001, C=0.001, score=0.200939, total=  24.2s\n",
      "[Parallel(n_jobs=1)]: Done   2 out of   2 | elapsed:  1.2min remaining:    0.0s\n",
      "[CV] gamma=0.001, C=0.001 ............................................\n",
      "[CV] ............. gamma=0.001, C=0.001, score=0.201128, total=31.1min\n",
      "[Parallel(n_jobs=1)]: Done   3 out of   3 | elapsed: 32.5min remaining:    0.0s\n",
      "[CV] gamma=0.001, C=0.001 ............................................\n",
      "[CV] ............. gamma=0.001, C=0.001, score=0.201128, total=38.2min\n",
      "[Parallel(n_jobs=1)]: Done   4 out of   4 | elapsed: 70.9min remaining:    0.0s\n",
      "[CV] gamma=0.001, C=0.001 ............................................\n",
      "[CV] ............. gamma=0.001, C=0.001, score=0.200565, total=  24.7s\n",
      "[Parallel(n_jobs=1)]: Done   5 out of   5 | elapsed: 71.5min remaining:    0.0s\n",
      "[CV] gamma=0.01, C=0.001 .............................................\n",
      "[CV] .............. gamma=0.01, C=0.001, score=0.200750, total=35.9min\n",
      "[Parallel(n_jobs=1)]: Done   6 out of   6 | elapsed: 107.6min remaining:    0.0s\n",
      "[CV] gamma=0.01, C=0.001 .............................................\n",
      "[CV] .............. gamma=0.01, C=0.001, score=0.200939, total=  25.0s\n",
      "[Parallel(n_jobs=1)]: Done   7 out of   7 | elapsed: 142.4min remaining:    0.0s\n",
      "[CV] gamma=0.01, C=0.001 .............................................\n",
      "[CV] .............. gamma=0.01, C=0.001, score=0.201128, total=  24.2s\n",
      "[Parallel(n_jobs=1)]: Done   8 out of   8 | elapsed: 143.0min remaining:    0.0s\n",
      "[CV] gamma=0.01, C=0.001 .............................................\n",
      "[CV] .............. gamma=0.01, C=0.001, score=0.201128, total=34.8min\n",
      "[Parallel(n_jobs=1)]: Done   9 out of   9 | elapsed: 178.0min remaining:    0.0s\n",
      "[CV] gamma=0.01, C=0.001 .............................................\n",
      "[CV] .............. gamma=0.01, C=0.001, score=0.200565, total=  24.9s\n",
      "[Parallel(n_jobs=1)]: Done  10 out of  10 | elapsed: 178.6min remaining:    0.0s\n",
      "[CV] gamma=0.1, C=0.001 ..............................................\n",
      "[CV] ............... gamma=0.1, C=0.001, score=0.200750, total=  26.4s\n",
      "[Parallel(n_jobs=1)]: Done  11 out of  11 | elapsed: 179.3min remaining:    0.0s\n",
      "[CV] gamma=0.1, C=0.001 ..............................................\n",
      "[CV] ............... gamma=0.1, C=0.001, score=0.200939, total=26.6min\n",
      "[Parallel(n_jobs=1)]: Done  12 out of  12 | elapsed: 206.0min remaining:    0.0s\n",
      "[CV] gamma=0.1, C=0.001 ..............................................\n",
      "[CV] ............... gamma=0.1, C=0.001, score=0.201128, total= 6.5min\n",
      "[Parallel(n_jobs=1)]: Done  13 out of  13 | elapsed: 212.7min remaining:    0.0s\n",
      "[CV] gamma=0.1, C=0.001 ..............................................\n",
      "[CV] ............... gamma=0.1, C=0.001, score=0.201128, total=  24.7s\n",
      "[Parallel(n_jobs=1)]: Done  14 out of  14 | elapsed: 251.8min remaining:    0.0s\n",
      "[CV] gamma=0.1, C=0.001 ..............................................\n",
      "[CV] ............... gamma=0.1, C=0.001, score=0.200565, total=  24.5s\n",
      "[Parallel(n_jobs=1)]: Done  15 out of  15 | elapsed: 252.4min remaining:    0.0s\n",
      "[CV] gamma=1, C=0.001 ................................................\n",
      "[CV] ................. gamma=1, C=0.001, score=0.200750, total=  26.9s\n",
      "[Parallel(n_jobs=1)]: Done  16 out of  16 | elapsed: 253.1min remaining:    0.0s\n",
      "[CV] gamma=1, C=0.001 ................................................\n",
      "[CV] ................. gamma=1, C=0.001, score=0.200939, total=38.2min\n",
      "[Parallel(n_jobs=1)]: Done  17 out of  17 | elapsed: 291.4min remaining:    0.0s\n",
      "[CV] gamma=1, C=0.001 ................................................\n",
      "[CV] ................. gamma=1, C=0.001, score=0.201128, total=  24.4s\n",
      "[Parallel(n_jobs=1)]: Done  18 out of  18 | elapsed: 292.1min remaining:    0.0s\n",
      "[CV] gamma=1, C=0.001 ................................................\n",
      "[CV] ................ gamma=1, C=0.001, score=0.201128, total= -113.1s\n",
      "[Parallel(n_jobs=1)]: Done  19 out of  19 | elapsed: 290.4min remaining:    0.0s\n",
      "[CV] gamma=1, C=0.001 ................................................\n",
      "[CV] ................. gamma=1, C=0.001, score=0.200565, total=  26.3s\n",
      "[Parallel(n_jobs=1)]: Done  20 out of  20 | elapsed: 291.1min remaining:    0.0s\n",
      "[CV] gamma=10, C=0.001 ...............................................\n",
      "[CV] ................ gamma=10, C=0.001, score=0.200750, total=  26.7s\n",
      "[Parallel(n_jobs=1)]: Done  21 out of  21 | elapsed: 291.7min remaining:    0.0s\n",
      "[CV] gamma=10, C=0.001 ...............................................\n",
      "[CV] ................ gamma=10, C=0.001, score=0.200939, total=  26.7s\n",
      "[Parallel(n_jobs=1)]: Done  22 out of  22 | elapsed: 292.4min remaining:    0.0s\n",
      "[CV] gamma=10, C=0.001 ...............................................\n",
      "[CV] ................ gamma=10, C=0.001, score=0.201128, total=  25.8s\n",
      "[Parallel(n_jobs=1)]: Done  23 out of  23 | elapsed: 327.9min remaining:    0.0s\n",
      "[CV] gamma=10, C=0.001 ...............................................\n",
      "[CV] ................ gamma=10, C=0.001, score=0.201128, total=  24.5s\n",
      "[Parallel(n_jobs=1)]: Done  24 out of  24 | elapsed: 328.5min remaining:    0.0s\n",
      "[CV] gamma=10, C=0.001 ...............................................\n",
      "[CV] ................ gamma=10, C=0.001, score=0.200565, total=35.5min\n",
      "[Parallel(n_jobs=1)]: Done  25 out of  25 | elapsed: 364.2min remaining:    0.0s\n",
      "[CV] gamma=0.001, C=0.01 .............................................\n",
      "[CV] .............. gamma=0.001, C=0.01, score=0.200750, total=31.0min\n",
      "[Parallel(n_jobs=1)]: Done  26 out of  26 | elapsed: 395.4min remaining:    0.0s\n",
      "[CV] gamma=0.001, C=0.01 .............................................\n",
      "[CV] .............. gamma=0.001, C=0.01, score=0.200939, total=  24.7s\n",
      "[Parallel(n_jobs=1)]: Done  27 out of  27 | elapsed: 396.0min remaining:    0.0s\n",
      "[CV] gamma=0.001, C=0.01 .............................................\n",
      "[CV] .............. gamma=0.001, C=0.01, score=0.201128, total=31.0min\n",
      "[Parallel(n_jobs=1)]: Done  28 out of  28 | elapsed: 427.1min remaining:    0.0s\n",
      "[CV] gamma=0.001, C=0.01 .............................................\n",
      "[CV] .............. gamma=0.001, C=0.01, score=0.201128, total=  24.9s\n",
      "[Parallel(n_jobs=1)]: Done  29 out of  29 | elapsed: 440.4min remaining:    0.0s\n",
      "[CV] gamma=0.001, C=0.01 .............................................\n",
      "[CV] .............. gamma=0.001, C=0.01, score=0.200565, total=  23.7s\n",
      "[Parallel(n_jobs=1)]: Done  30 out of  30 | elapsed: 441.0min remaining:    0.0s\n",
      "[CV] gamma=0.01, C=0.01 ..............................................\n",
      "[CV] ............... gamma=0.01, C=0.01, score=0.200750, total=19.4min\n",
      "[Parallel(n_jobs=1)]: Done  31 out of  31 | elapsed: 460.6min remaining:    0.0s\n",
      "[CV] gamma=0.01, C=0.01 ..............................................\n",
      "[CV] ............... gamma=0.01, C=0.01, score=0.200939, total=  24.9s\n",
      "[Parallel(n_jobs=1)]: Done  32 out of  32 | elapsed: 492.0min remaining:    0.0s\n",
      "[CV] gamma=0.01, C=0.01 ..............................................\n",
      "[CV] ............... gamma=0.01, C=0.01, score=0.201128, total=  24.3s\n",
      "[Parallel(n_jobs=1)]: Done  33 out of  33 | elapsed: 492.6min remaining:    0.0s\n",
      "[CV] gamma=0.01, C=0.01 ..............................................\n",
      "[CV] ............... gamma=0.01, C=0.01, score=0.201128, total=11.3min\n",
      "[Parallel(n_jobs=1)]: Done  34 out of  34 | elapsed: 504.1min remaining:    0.0s\n",
      "[CV] gamma=0.01, C=0.01 ..............................................\n",
      "[CV] ............... gamma=0.01, C=0.01, score=0.200565, total=  25.5s\n",
      "[Parallel(n_jobs=1)]: Done  35 out of  35 | elapsed: 504.7min remaining:    0.0s\n",
      "[CV] gamma=0.1, C=0.01 ...............................................\n",
      "[CV] ................ gamma=0.1, C=0.01, score=0.200750, total=  27.8s\n",
      "[Parallel(n_jobs=1)]: Done  36 out of  36 | elapsed: 505.4min remaining:    0.0s\n",
      "[CV] gamma=0.1, C=0.01 ...............................................\n",
      "[CV] ................ gamma=0.1, C=0.01, score=0.200939, total=  27.7s\n",
      "[Parallel(n_jobs=1)]: Done  37 out of  37 | elapsed: 506.1min remaining:    0.0s\n",
      "[CV] gamma=0.1, C=0.01 ...............................................\n",
      "[CV] ................ gamma=0.1, C=0.01, score=0.201128, total=  26.0s\n",
      "[Parallel(n_jobs=1)]: Done  38 out of  38 | elapsed: 506.7min remaining:    0.0s\n",
      "[CV] gamma=0.1, C=0.01 ...............................................\n",
      "[CV] ................ gamma=0.1, C=0.01, score=0.201128, total=  26.7s\n",
      "[Parallel(n_jobs=1)]: Done  39 out of  39 | elapsed: 507.4min remaining:    0.0s\n",
      "[CV] gamma=0.1, C=0.01 ...............................................\n",
      "[CV] ................ gamma=0.1, C=0.01, score=0.200565, total=  28.5s\n",
      "[Parallel(n_jobs=1)]: Done  40 out of  40 | elapsed: 508.1min remaining:    0.0s\n",
      "[CV] gamma=1, C=0.01 .................................................\n",
      "[CV] .................. gamma=1, C=0.01, score=0.200750, total=  27.7s\n",
      "[Parallel(n_jobs=1)]: Done  41 out of  41 | elapsed: 508.8min remaining:    0.0s\n",
      "[CV] gamma=1, C=0.01 .................................................\n",
      "[CV] .................. gamma=1, C=0.01, score=0.200939, total=  26.3s\n",
      "[Parallel(n_jobs=1)]: Done  42 out of  42 | elapsed: 509.5min remaining:    0.0s\n",
      "[CV] gamma=1, C=0.01 .................................................\n",
      "[CV] .................. gamma=1, C=0.01, score=0.201128, total=  24.6s\n",
      "[Parallel(n_jobs=1)]: Done  43 out of  43 | elapsed: 510.1min remaining:    0.0s\n",
      "[CV] gamma=1, C=0.01 .................................................\n",
      "[CV] .................. gamma=1, C=0.01, score=0.201128, total=  26.3s\n",
      "[Parallel(n_jobs=1)]: Done  44 out of  44 | elapsed: 510.7min remaining:    0.0s\n",
      "[CV] gamma=1, C=0.01 .................................................\n",
      "[CV] .................. gamma=1, C=0.01, score=0.200565, total=  26.3s\n",
      "[Parallel(n_jobs=1)]: Done  45 out of  45 | elapsed: 511.4min remaining:    0.0s\n",
      "[CV] gamma=10, C=0.01 ................................................\n",
      "[CV] ................. gamma=10, C=0.01, score=0.200750, total=  26.2s\n",
      "[Parallel(n_jobs=1)]: Done  46 out of  46 | elapsed: 512.0min remaining:    0.0s\n",
      "[CV] gamma=10, C=0.01 ................................................\n",
      "[CV] ................. gamma=10, C=0.01, score=0.200939, total=  30.2s\n",
      "[Parallel(n_jobs=1)]: Done  47 out of  47 | elapsed: 512.8min remaining:    0.0s\n",
      "[CV] gamma=10, C=0.01 ................................................\n",
      "[CV] ................. gamma=10, C=0.01, score=0.201128, total=  25.5s\n",
      "[Parallel(n_jobs=1)]: Done  48 out of  48 | elapsed: 513.4min remaining:    0.0s\n",
      "[CV] gamma=10, C=0.01 ................................................\n",
      "[CV] ................. gamma=10, C=0.01, score=0.201128, total=  27.7s\n",
      "[Parallel(n_jobs=1)]: Done  49 out of  49 | elapsed: 514.1min remaining:    0.0s\n",
      "[CV] gamma=10, C=0.01 ................................................\n",
      "[CV] ................. gamma=10, C=0.01, score=0.200565, total=  28.1s\n",
      "[Parallel(n_jobs=1)]: Done  50 out of  50 | elapsed: 514.8min remaining:    0.0s\n",
      "[CV] gamma=0.001, C=0.1 ..............................................\n",
      "[CV] ............... gamma=0.001, C=0.1, score=0.200750, total=  27.2s\n",
      "[Parallel(n_jobs=1)]: Done  51 out of  51 | elapsed: 515.5min remaining:    0.0s\n",
      "[CV] gamma=0.001, C=0.1 ..............................................\n",
      "[CV] ............... gamma=0.001, C=0.1, score=0.200939, total=  29.8s\n",
      "[Parallel(n_jobs=1)]: Done  52 out of  52 | elapsed: 516.2min remaining:    0.0s\n",
      "[CV] gamma=0.001, C=0.1 ..............................................\n",
      "[CV] ............... gamma=0.001, C=0.1, score=0.201128, total=  25.9s\n",
      "[Parallel(n_jobs=1)]: Done  53 out of  53 | elapsed: 516.8min remaining:    0.0s\n",
      "[CV] gamma=0.001, C=0.1 ..............................................\n",
      "[CV] ............... gamma=0.001, C=0.1, score=0.201128, total=  26.2s\n",
      "[Parallel(n_jobs=1)]: Done  54 out of  54 | elapsed: 517.5min remaining:    0.0s\n",
      "[CV] gamma=0.001, C=0.1 ..............................................\n",
      "[CV] ............... gamma=0.001, C=0.1, score=0.200565, total=  26.9s\n",
      "[Parallel(n_jobs=1)]: Done  55 out of  55 | elapsed: 518.1min remaining:    0.0s\n",
      "[CV] gamma=0.01, C=0.1 ...............................................\n",
      "[CV] ................ gamma=0.01, C=0.1, score=0.260788, total= -21.9s\n",
      "[Parallel(n_jobs=1)]: Done  56 out of  56 | elapsed: 518.0min remaining:    0.0s\n",
      "[CV] gamma=0.01, C=0.1 ...............................................\n",
      "[CV] ................ gamma=0.01, C=0.1, score=0.271362, total=  32.1s\n",
      "[Parallel(n_jobs=1)]: Done  57 out of  57 | elapsed: 518.9min remaining:    0.0s\n",
      "[CV] gamma=0.01, C=0.1 ...............................................\n",
      "[CV] ................ gamma=0.01, C=0.1, score=0.265977, total=  27.3s\n",
      "[Parallel(n_jobs=1)]: Done  58 out of  58 | elapsed: 519.7min remaining:    0.0s\n",
      "[CV] gamma=0.01, C=0.1 ...............................................\n",
      "[CV] ................ gamma=0.01, C=0.1, score=0.276316, total=  27.8s\n",
      "[Parallel(n_jobs=1)]: Done  59 out of  59 | elapsed: 520.3min remaining:    0.0s\n",
      "[CV] gamma=0.01, C=0.1 ...............................................\n",
      "[CV] ................ gamma=0.01, C=0.1, score=0.276836, total=  26.5s\n",
      "[Parallel(n_jobs=1)]: Done  60 out of  60 | elapsed: 521.0min remaining:    0.0s\n",
      "[CV] gamma=0.1, C=0.1 ................................................\n",
      "[CV] ................. gamma=0.1, C=0.1, score=0.625704, total=  25.9s\n",
      "[Parallel(n_jobs=1)]: Done  61 out of  61 | elapsed: 521.7min remaining:    0.0s\n",
      "[CV] gamma=0.1, C=0.1 ................................................\n",
      "[CV] ................. gamma=0.1, C=0.1, score=0.598122, total=  23.5s\n",
      "[Parallel(n_jobs=1)]: Done  62 out of  62 | elapsed: 522.3min remaining:    0.0s\n",
      "[CV] gamma=0.1, C=0.1 ................................................\n",
      "[CV] ................. gamma=0.1, C=0.1, score=0.623120, total=  24.0s\n",
      "[Parallel(n_jobs=1)]: Done  63 out of  63 | elapsed: 522.9min remaining:    0.0s\n",
      "[CV] gamma=0.1, C=0.1 ................................................\n",
      "[CV] ................. gamma=0.1, C=0.1, score=0.609962, total=  24.7s\n",
      "[Parallel(n_jobs=1)]: Done  64 out of  64 | elapsed: 523.6min remaining:    0.0s\n",
      "[CV] gamma=0.1, C=0.1 ................................................\n",
      "[CV] ................. gamma=0.1, C=0.1, score=0.591337, total=  24.7s\n",
      "[Parallel(n_jobs=1)]: Done  65 out of  65 | elapsed: 524.2min remaining:    0.0s\n",
      "[CV] gamma=1, C=0.1 ..................................................\n",
      "[CV] ................... gamma=1, C=0.1, score=0.200750, total=  25.6s\n",
      "[Parallel(n_jobs=1)]: Done  66 out of  66 | elapsed: 524.8min remaining:    0.0s\n",
      "[CV] gamma=1, C=0.1 ..................................................\n",
      "[CV] ................... gamma=1, C=0.1, score=0.200939, total=  28.3s\n",
      "[Parallel(n_jobs=1)]: Done  67 out of  67 | elapsed: 525.5min remaining:    0.0s\n",
      "[CV] gamma=1, C=0.1 ..................................................\n",
      "[CV] ................... gamma=1, C=0.1, score=0.201128, total=  25.3s\n",
      "[Parallel(n_jobs=1)]: Done  68 out of  68 | elapsed: 526.1min remaining:    0.0s\n",
      "[CV] gamma=1, C=0.1 ..................................................\n",
      "[CV] ................... gamma=1, C=0.1, score=0.201128, total=  25.8s\n",
      "[Parallel(n_jobs=1)]: Done  69 out of  69 | elapsed: 526.8min remaining:    0.0s\n",
      "[CV] gamma=1, C=0.1 ..................................................\n",
      "[CV] ................... gamma=1, C=0.1, score=0.200565, total=  25.6s\n",
      "[Parallel(n_jobs=1)]: Done  70 out of  70 | elapsed: 527.4min remaining:    0.0s\n",
      "[CV] gamma=10, C=0.1 .................................................\n",
      "[CV] .................. gamma=10, C=0.1, score=0.200750, total=  26.4s\n",
      "[Parallel(n_jobs=1)]: Done  71 out of  71 | elapsed: 528.1min remaining:    0.0s\n",
      "[CV] gamma=10, C=0.1 .................................................\n",
      "[CV] .................. gamma=10, C=0.1, score=0.200939, total=  28.6s\n",
      "[Parallel(n_jobs=1)]: Done  72 out of  72 | elapsed: 528.8min remaining:    0.0s\n",
      "[CV] gamma=10, C=0.1 .................................................\n",
      "[CV] .................. gamma=10, C=0.1, score=0.201128, total=  26.8s\n",
      "[Parallel(n_jobs=1)]: Done  73 out of  73 | elapsed: 529.5min remaining:    0.0s\n",
      "[CV] gamma=10, C=0.1 .................................................\n",
      "[CV] .................. gamma=10, C=0.1, score=0.201128, total=  30.0s\n",
      "[Parallel(n_jobs=1)]: Done  74 out of  74 | elapsed: 530.2min remaining:    0.0s\n",
      "[CV] gamma=10, C=0.1 .................................................\n",
      "[CV] .................. gamma=10, C=0.1, score=0.200565, total=  27.7s\n",
      "[Parallel(n_jobs=1)]: Done  75 out of  75 | elapsed: 530.9min remaining:    0.0s\n",
      "[CV] gamma=0.001, C=1 ................................................\n",
      "[CV] ................. gamma=0.001, C=1, score=0.286116, total=  27.2s\n",
      "[Parallel(n_jobs=1)]: Done  76 out of  76 | elapsed: 531.6min remaining:    0.0s\n",
      "[CV] gamma=0.001, C=1 ................................................\n",
      "[CV] ................. gamma=0.001, C=1, score=0.309859, total=  28.0s\n",
      "[Parallel(n_jobs=1)]: Done  77 out of  77 | elapsed: 532.2min remaining:    0.0s\n",
      "[CV] gamma=0.001, C=1 ................................................\n",
      "[CV] ................. gamma=0.001, C=1, score=0.282895, total=  28.6s\n",
      "[Parallel(n_jobs=1)]: Done  78 out of  78 | elapsed: 532.9min remaining:    0.0s\n",
      "[CV] gamma=0.001, C=1 ................................................\n",
      "[CV] ................. gamma=0.001, C=1, score=0.300752, total=  26.3s\n",
      "[Parallel(n_jobs=1)]: Done  79 out of  79 | elapsed: 533.6min remaining:    0.0s\n",
      "[CV] gamma=0.001, C=1 ................................................\n",
      "[CV] ................. gamma=0.001, C=1, score=0.285311, total=  27.0s\n",
      "[Parallel(n_jobs=1)]: Done  80 out of  80 | elapsed: 534.2min remaining:    0.0s\n",
      "[CV] gamma=0.01, C=1 .................................................\n",
      "[CV] .................. gamma=0.01, C=1, score=0.662289, total=  23.2s\n",
      "[Parallel(n_jobs=1)]: Done  81 out of  81 | elapsed: 534.8min remaining:    0.0s\n",
      "[CV] gamma=0.01, C=1 .................................................\n",
      "[CV] .................. gamma=0.01, C=1, score=0.636620, total=  20.6s\n",
      "[Parallel(n_jobs=1)]: Done  82 out of  82 | elapsed: 535.4min remaining:    0.0s\n",
      "[CV] gamma=0.01, C=1 .................................................\n",
      "[CV] .................. gamma=0.01, C=1, score=0.644737, total=  20.0s\n",
      "[Parallel(n_jobs=1)]: Done  83 out of  83 | elapsed: 535.9min remaining:    0.0s\n",
      "[CV] gamma=0.01, C=1 .................................................\n",
      "[CV] .................. gamma=0.01, C=1, score=0.656015, total=  20.2s\n",
      "[Parallel(n_jobs=1)]: Done  84 out of  84 | elapsed: 536.4min remaining:    0.0s\n",
      "[CV] gamma=0.01, C=1 .................................................\n",
      "[CV] .................. gamma=0.01, C=1, score=0.633710, total=  20.0s\n",
      "[Parallel(n_jobs=1)]: Done  85 out of  85 | elapsed: 536.9min remaining:    0.0s\n",
      "[CV] gamma=0.1, C=1 ..................................................\n",
      "[CV] ................... gamma=0.1, C=1, score=0.731707, total=  16.0s\n",
      "[Parallel(n_jobs=1)]: Done  86 out of  86 | elapsed: 537.4min remaining:    0.0s\n",
      "[CV] gamma=0.1, C=1 ..................................................\n",
      "[CV] ................... gamma=0.1, C=1, score=0.729577, total=  16.1s\n",
      "[Parallel(n_jobs=1)]: Done  87 out of  87 | elapsed: 537.8min remaining:    0.0s\n",
      "[CV] gamma=0.1, C=1 ..................................................\n",
      "[CV] ................... gamma=0.1, C=1, score=0.724624, total=  15.8s\n",
      "[Parallel(n_jobs=1)]: Done  88 out of  88 | elapsed: 538.3min remaining:    0.0s\n",
      "[CV] gamma=0.1, C=1 ..................................................\n",
      "[CV] ................... gamma=0.1, C=1, score=0.734023, total=  16.1s\n",
      "[Parallel(n_jobs=1)]: Done  89 out of  89 | elapsed: 538.7min remaining:    0.0s\n",
      "[CV] gamma=0.1, C=1 ..................................................\n",
      "[CV] ................... gamma=0.1, C=1, score=0.727872, total=  16.0s\n",
      "[Parallel(n_jobs=1)]: Done  90 out of  90 | elapsed: 539.1min remaining:    0.0s\n",
      "[CV] gamma=1, C=1 ....................................................\n",
      "[CV] ..................... gamma=1, C=1, score=0.612570, total=  27.2s\n",
      "[Parallel(n_jobs=1)]: Done  91 out of  91 | elapsed: 539.8min remaining:    0.0s\n",
      "[CV] gamma=1, C=1 ....................................................\n",
      "[CV] ..................... gamma=1, C=1, score=0.593427, total=  27.2s\n",
      "[Parallel(n_jobs=1)]: Done  92 out of  92 | elapsed: 540.5min remaining:    0.0s\n",
      "[CV] gamma=1, C=1 ....................................................\n",
      "[CV] ..................... gamma=1, C=1, score=0.609962, total=  25.7s\n",
      "[Parallel(n_jobs=1)]: Done  93 out of  93 | elapsed: 541.2min remaining:    0.0s\n",
      "[CV] gamma=1, C=1 ....................................................\n",
      "[CV] ..................... gamma=1, C=1, score=0.585526, total=  26.8s\n",
      "[Parallel(n_jobs=1)]: Done  94 out of  94 | elapsed: 541.9min remaining:    0.0s\n",
      "[CV] gamma=1, C=1 ....................................................\n",
      "[CV] ..................... gamma=1, C=1, score=0.596987, total=  26.9s\n",
      "[Parallel(n_jobs=1)]: Done  95 out of  95 | elapsed: 542.5min remaining:    0.0s\n",
      "[CV] gamma=10, C=1 ...................................................\n",
      "[CV] .................... gamma=10, C=1, score=0.206379, total=  27.6s\n",
      "[Parallel(n_jobs=1)]: Done  96 out of  96 | elapsed: 543.2min remaining:    0.0s\n",
      "[CV] gamma=10, C=1 ...................................................\n",
      "[CV] .................... gamma=10, C=1, score=0.208451, total=  30.2s\n",
      "[Parallel(n_jobs=1)]: Done  97 out of  97 | elapsed: 543.9min remaining:    0.0s\n",
      "[CV] gamma=10, C=1 ...................................................\n",
      "[CV] .................... gamma=10, C=1, score=0.203947, total=  27.5s\n",
      "[Parallel(n_jobs=1)]: Done  98 out of  98 | elapsed: 544.6min remaining:    0.0s\n",
      "[CV] gamma=10, C=1 ...................................................\n",
      "[CV] .................... gamma=10, C=1, score=0.208647, total=  28.0s\n",
      "[Parallel(n_jobs=1)]: Done  99 out of  99 | elapsed: 545.3min remaining:    0.0s\n",
      "[CV] gamma=10, C=1 ...................................................\n",
      "[CV] .................... gamma=10, C=1, score=0.205273, total=  29.7s\n",
      "[CV] gamma=0.001, C=10 ...............................................\n",
      "[CV] ................ gamma=0.001, C=10, score=0.661351, total=  20.9s\n",
      "[CV] gamma=0.001, C=10 ...............................................\n",
      "[CV] ................ gamma=0.001, C=10, score=0.636620, total=  20.6s\n",
      "[CV] gamma=0.001, C=10 ...............................................\n",
      "[CV] ................ gamma=0.001, C=10, score=0.647556, total=  20.1s\n",
      "[CV] gamma=0.001, C=10 ...............................................\n",
      "[CV] ................ gamma=0.001, C=10, score=0.656015, total=  20.8s\n",
      "[CV] gamma=0.001, C=10 ...............................................\n",
      "[CV] ................ gamma=0.001, C=10, score=0.636535, total=  22.1s\n",
      "[CV] gamma=0.01, C=10 ................................................\n",
      "[CV] ................. gamma=0.01, C=10, score=0.700750, total=  14.2s\n",
      "[CV] gamma=0.01, C=10 ................................................\n",
      "[CV] ................. gamma=0.01, C=10, score=0.707042, total=  15.0s\n",
      "[CV] gamma=0.01, C=10 ................................................\n",
      "[CV] ................. gamma=0.01, C=10, score=0.686090, total=  14.5s\n",
      "[CV] gamma=0.01, C=10 ................................................\n",
      "[CV] ................. gamma=0.01, C=10, score=0.704887, total=  14.8s\n",
      "[CV] gamma=0.01, C=10 ................................................\n",
      "[CV] ................. gamma=0.01, C=10, score=0.694915, total=  14.7s\n",
      "[CV] gamma=0.1, C=10 .................................................\n",
      "[CV] .................. gamma=0.1, C=10, score=0.762664, total=  19.6s\n",
      "[CV] gamma=0.1, C=10 .................................................\n",
      "[CV] .................. gamma=0.1, C=10, score=0.754930, total=  18.8s\n",
      "[CV] gamma=0.1, C=10 .................................................\n",
      "[CV] .................. gamma=0.1, C=10, score=0.736842, total=  19.8s\n",
      "[CV] gamma=0.1, C=10 .................................................\n",
      "[CV] .................. gamma=0.1, C=10, score=0.756579, total=  18.8s\n",
      "[CV] gamma=0.1, C=10 .................................................\n",
      "[CV] .................. gamma=0.1, C=10, score=0.755179, total=  19.1s\n",
      "[CV] gamma=1, C=10 ...................................................\n",
      "[CV] .................... gamma=1, C=10, score=0.623827, total=  29.0s\n",
      "[CV] gamma=1, C=10 ...................................................\n",
      "[CV] .................... gamma=1, C=10, score=0.609390, total=  27.6s\n",
      "[CV] gamma=1, C=10 ...................................................\n",
      "[CV] .................... gamma=1, C=10, score=0.629699, total=  26.1s\n",
      "[CV] gamma=1, C=10 ...................................................\n",
      "[CV] .................... gamma=1, C=10, score=0.609962, total=  28.2s\n",
      "[CV] gamma=1, C=10 ...................................................\n",
      "[CV] .................... gamma=1, C=10, score=0.624294, total=  26.7s\n",
      "[CV] gamma=10, C=10 ..................................................\n",
      "[CV] ................... gamma=10, C=10, score=0.206379, total=  30.1s\n",
      "[CV] gamma=10, C=10 ..................................................\n",
      "[CV] ................... gamma=10, C=10, score=0.208451, total=  26.9s\n",
      "[CV] gamma=10, C=10 ..................................................\n",
      "[CV] ................... gamma=10, C=10, score=0.203947, total=  28.1s\n",
      "[CV] gamma=10, C=10 ..................................................\n",
      "[CV] ................... gamma=10, C=10, score=0.208647, total=  27.0s\n",
      "[CV] gamma=10, C=10 ..................................................\n",
      "[CV] ................... gamma=10, C=10, score=0.205273, total=  27.6s\n",
      "[Parallel(n_jobs=1)]: Done 125 out of 125 | elapsed: 560.1min finished\n",
      "Test set score: 0.743\n",
      "Best parameters: {'gamma': 0.1, 'C': 10}\n",
      "Best cross-validation score: 0.75\n",
      "Best estimator:\n",
      "SVC(C=10, cache_size=200, class_weight=None, coef0=0.0,\n",
      "  decision_function_shape=None, degree=3, gamma=0.1, kernel='rbf',\n",
      "  max_iter=-1, probability=False, random_state=None, shrinking=True,\n",
      "  tol=0.001, verbose=False)\n"
     ]
    }
   ],
   "source": [
    "from sklearn.model_selection import GridSearchCV\n",
    "\n",
    "param_grid = {'C': [0.001, 0.01, 0.1, 1, 10],\n",
    "              'gamma': [0.001, 0.01, 0.1, 1, 10]}\n",
    "\n",
    "clf = SVC(kernel='rbf')\n",
    "\n",
    "grid_search = GridSearchCV(clf, param_grid, cv=5, verbose=100)\n",
    "\n",
    "grid_search.fit(X_train, y_train)\n",
    "\n",
    "print(\"Test set score: {:.3f}\".format(grid_search.score(X_test, y_test)))\n",
    "print(\"Best parameters: {}\".format(grid_search.best_params_))\n",
    "print(\"Best cross-validation score: {:.2f}\".format(grid_search.best_score_))\n",
    "print(\"Best estimator:\\n{}\".format(grid_search.best_estimator_))"
   ]
  },
  {
   "cell_type": "code",
   "execution_count": 149,
   "metadata": {
    "collapsed": false,
    "deletable": true,
    "editable": true
   },
   "outputs": [
    {
     "name": "stderr",
     "output_type": "stream",
     "text": [
      "/Library/Frameworks/Python.framework/Versions/3.5/lib/python3.5/site-packages/matplotlib/font_manager.py:1288: UserWarning: findfont: Font family ['serif'] not found. Falling back to Bitstream Vera Sans\n",
      "  (prop.get_family(), self.defaultFamily[fontext]))\n"
     ]
    },
    {
     "data": {
      "image/png": "[encoded data removed]",
      "text/plain": [
       "<matplotlib.figure.Figure at 0x1244b7e48>"
      ]
     },
     "metadata": {},
     "output_type": "display_data"
    }
   ],
   "source": [
    "import pandas as pd\n",
    "from mglearn.tools import heatmap\n",
    "# convert to Dataframe\n",
    "results = pd.DataFrame(grid_search.cv_results_)\n",
    "\n",
    "scores = np.array(results.mean_test_score).reshape(5, 5)\n",
    "# plot the mean cross-validation scores\n",
    "heatmap(scores, xlabel='gamma', xticklabels=param_grid['gamma'],\n",
    "                      ylabel='C', yticklabels=param_grid['C'], cmap=\"viridis\");"
   ]
  },
  {
   "cell_type": "code",
   "execution_count": 162,
   "metadata": {
    "collapsed": true,
    "deletable": true,
    "editable": true
   },
   "outputs": [],
   "source": [
    "from numpy import genfromtxt\n",
    "\n",
    "X_all_nn = genfromtxt('nn_features.csv', delimiter=',')\n",
    "y_all_nn = genfromtxt('nn_labels.csv', delimiter=',')\n",
    "\n",
    "y_all_nn = np.argmax(y_all_nn, axis=1)"
   ]
  },
  {
   "cell_type": "code",
   "execution_count": 165,
   "metadata": {
    "collapsed": false,
    "deletable": true,
    "editable": true
   },
   "outputs": [
    {
     "name": "stdout",
     "output_type": "stream",
     "text": [
      "(11826, 1960)\n",
      "(11826,)\n"
     ]
    }
   ],
   "source": [
    "print(X_all_nn.shape)\n",
    "print(y_all_nn.shape)"
   ]
  },
  {
   "cell_type": "code",
   "execution_count": 173,
   "metadata": {
    "collapsed": false,
    "deletable": true,
    "editable": true
   },
   "outputs": [
    {
     "name": "stdout",
     "output_type": "stream",
     "text": [
      "(1960,)\n",
      "(1960,)\n"
     ]
    }
   ],
   "source": [
    "min_on_training = X_all_nn.min(axis=0)  \n",
    "print((min_on_training.shape))\n",
    "# Compute the range of each feature (max - min) on the training set\n",
    "range_on_training = (X_all_nn - min_on_training).max(axis=0)\n",
    "print((range_on_training.shape))\n",
    "\n",
    "X_all_nn = (X_all_nn - min_on_training) / range_on_training"
   ]
  },
  {
   "cell_type": "code",
   "execution_count": 174,
   "metadata": {
    "collapsed": false,
    "deletable": true,
    "editable": true
   },
   "outputs": [
    {
     "name": "stdout",
     "output_type": "stream",
     "text": [
      "(11826, 1960)\n",
      "(11826,)\n"
     ]
    }
   ],
   "source": [
    "print(X_all_nn.shape)\n",
    "print(y_all_nn.shape)"
   ]
  },
  {
   "cell_type": "code",
   "execution_count": 166,
   "metadata": {
    "collapsed": false,
    "deletable": true,
    "editable": true
   },
   "outputs": [
    {
     "name": "stdout",
     "output_type": "stream",
     "text": [
      "(10643, 1960)\n",
      "Training set score: 1.000\n",
      "Test set score: 0.211\n"
     ]
    }
   ],
   "source": [
    "from sklearn.svm import SVC\n",
    "\n",
    "X_train_nn, X_test_nn, y_train_nn, y_test_nn = train_test_split(\n",
    "    X_all_nn, y_all_nn, stratify=y_all_nn, train_size=0.9, random_state=42)\n",
    "\n",
    "print(X_train_nn.shape)\n",
    "\n",
    "clf = SVC(kernel='rbf', C=1, gamma=0.1)\n",
    "clf.fit(X_train_nn, y_train_nn)\n",
    "\n",
    "print(\"Training set score: {:.3f}\".format(clf.score(X_train_nn, y_train_nn)))\n",
    "print(\"Test set score: {:.3f}\".format(clf.score(X_test_nn, y_test_nn)))"
   ]
  },
  {
   "cell_type": "code",
   "execution_count": 175,
   "metadata": {
    "collapsed": false,
    "deletable": true,
    "editable": true
   },
   "outputs": [
    {
     "name": "stdout",
     "output_type": "stream",
     "text": [
      "(3192, 1960)\n",
      "(3192,)\n",
      "(355, 1960)\n",
      "(355,)\n"
     ]
    }
   ],
   "source": [
    "X_sub_nn, _, y_sub_nn, _ = train_test_split(\n",
    "    X_all_nn, y_all_nn, stratify=y_all_nn, train_size=0.3, random_state=42)\n",
    "\n",
    "X_sub_train_nn, X_sub_test_nn, y_sub_train_nn, y_sub_test_nn = train_test_split(\n",
    "    X_sub_nn, y_sub_nn, stratify=y_sub_nn, train_size=0.9, random_state=42)\n",
    "\n",
    "print(X_sub_train_nn.shape)\n",
    "print(y_sub_train_nn.shape)\n",
    "print(X_sub_test_nn.shape)\n",
    "print(y_sub_test_nn.shape)"
   ]
  },
  {
   "cell_type": "code",
   "execution_count": 182,
   "metadata": {
    "collapsed": false,
    "deletable": true,
    "editable": true
   },
   "outputs": [
    {
     "name": "stdout",
     "output_type": "stream",
     "text": [
      "Training set score: 0.991\n",
      "Test set score: 0.637\n"
     ]
    }
   ],
   "source": [
    "clf = SVC(kernel='rbf', C=10, gamma=0.01)\n",
    "clf.fit(X_sub_train_nn, y_sub_train_nn)\n",
    "\n",
    "print(\"Training set score: {:.3f}\".format(clf.score(X_sub_train_nn, y_sub_train_nn)))\n",
    "print(\"Test set score: {:.3f}\".format(clf.score(X_sub_test_nn, y_sub_test_nn)))"
   ]
  },
  {
   "cell_type": "code",
   "execution_count": null,
   "metadata": {
    "collapsed": true,
    "deletable": true,
    "editable": true
   },
   "outputs": [],
   "source": []
  }
 ],
 "metadata": {
  "celltoolbar": "Raw Cell Format",
  "kernelspec": {
   "display_name": "Python 3",
   "language": "python",
   "name": "python3"
  },
  "language_info": {
   "codemirror_mode": {
    "name": "ipython",
    "version": 3
   },
   "file_extension": ".py",
   "mimetype": "text/x-python",
   "name": "python",
   "nbconvert_exporter": "python",
   "pygments_lexer": "ipython3",
   "version": "3.5.2"
  }
 },
 "nbformat": 4,
 "nbformat_minor": 2
}
