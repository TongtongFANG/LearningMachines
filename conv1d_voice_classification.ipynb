{
 "cells": [
  {
   "cell_type": "code",
   "execution_count": 1,
   "metadata": {
    "collapsed": true
   },
   "outputs": [],
   "source": [
    "import glob\n",
    "import os\n",
    "import librosa\n",
    "import numpy as np\n",
    "import matplotlib.pyplot as plt\n",
    "from matplotlib.pyplot import specgram\n",
    "%matplotlib inline\n",
    "plt.style.use('ggplot')\n",
    "\n",
    "plt.rcParams['font.family'] = 'serif'\n",
    "plt.rcParams['font.serif'] = 'Ubuntu'\n",
    "plt.rcParams['font.monospace'] = 'Ubuntu Mono'\n",
    "plt.rcParams['font.size'] = 12\n",
    "plt.rcParams['axes.labelsize'] = 11\n",
    "plt.rcParams['axes.labelweight'] = 'bold'\n",
    "plt.rcParams['axes.titlesize'] = 14\n",
    "plt.rcParams['xtick.labelsize'] = 10\n",
    "plt.rcParams['ytick.labelsize'] = 10\n",
    "plt.rcParams['legend.fontsize'] = 11\n",
    "plt.rcParams['figure.titlesize'] = 13"
   ]
  },
  {
   "cell_type": "code",
   "execution_count": 28,
   "metadata": {
    "collapsed": true
   },
   "outputs": [],
   "source": [
    "class_labels = {\n",
    "    'down' : 0,\n",
    "    'go'   : 1,\n",
    "    'left' : 2,\n",
    "    'right': 3,\n",
    "    'up'   : 4\n",
    "}\n",
    "\n",
    "def extract_feature(fn):\n",
    "    \n",
    "    X, _ = librosa.load(fn, sr=None)\n",
    "    \n",
    "    return np.pad(X, ((0),(16000 - len(X))), mode='constant', constant_values=0.0)\n",
    "    \n",
    "\n",
    "def parse_audio_files(parent_dir, sub_dirs, file_ext='*.wav'):\n",
    "    \n",
    "#     +32 -40 +360\n",
    "    features, labels = np.empty((0, 16000)), []\n",
    "    \n",
    "    for label, sub_dir in enumerate(sub_dirs):\n",
    "        \n",
    "        raw_label_all_zero = np.zeros(5, dtype=np.int)\n",
    "        print(\"Working on %s\" % sub_dir)\n",
    "        \n",
    "        for fn in glob.glob(os.path.join(parent_dir, sub_dir, file_ext)):\n",
    "            \n",
    "            audio_signal = extract_feature(fn)\n",
    "            features = np.vstack([features, audio_signal])\n",
    "            \n",
    "            raw_label_all_zero[class_labels[sub_dir]] = 1\n",
    "            labels.append(raw_label_all_zero)\n",
    "            \n",
    "    return np.array(features), np.array(labels, dtype = np.int)"
   ]
  },
  {
   "cell_type": "code",
   "execution_count": 39,
   "metadata": {
    "collapsed": false
   },
   "outputs": [
    {
     "name": "stdout",
     "output_type": "stream",
     "text": [
      "Working on down\n",
      "Working on go\n",
      "Working on left\n",
      "Working on right\n",
      "Working on up\n"
     ]
    }
   ],
   "source": [
    "parent_dir = 'dataset'\n",
    "\n",
    "sub_dirs = ['down','go','left', 'right', 'up']\n",
    "\n",
    "features, labels = parse_audio_files(parent_dir, sub_dirs)"
   ]
  },
  {
   "cell_type": "code",
   "execution_count": 40,
   "metadata": {
    "collapsed": true
   },
   "outputs": [],
   "source": [
    "np.savetxt(\"nn_conv1d_features.csv\", features, delimiter=\",\")\n",
    "np.savetxt(\"nn_conv1d_labels.csv\", labels, delimiter=\",\")"
   ]
  },
  {
   "cell_type": "code",
   "execution_count": 41,
   "metadata": {
    "collapsed": false
   },
   "outputs": [],
   "source": [
    "X_all = features\n",
    "y_all = labels"
   ]
  },
  {
   "cell_type": "code",
   "execution_count": 42,
   "metadata": {
    "collapsed": false
   },
   "outputs": [
    {
     "name": "stderr",
     "output_type": "stream",
     "text": [
      "/Library/Frameworks/Python.framework/Versions/3.5/lib/python3.5/site-packages/sklearn/model_selection/_split.py:2026: FutureWarning: From version 0.21, test_size will always complement train_size unless both are specified.\n",
      "  FutureWarning)\n"
     ]
    },
    {
     "name": "stdout",
     "output_type": "stream",
     "text": [
      "(9549, 16000)\n",
      "(9549, 5)\n",
      "(503, 16000)\n",
      "(503, 5)\n",
      "(1774, 16000)\n",
      "(1774, 5)\n"
     ]
    }
   ],
   "source": [
    "from sklearn.model_selection import train_test_split\n",
    "\n",
    "X_not_test, X_test, y_not_rest, y_test = train_test_split(\n",
    "    X_all, y_all, stratify=labels, train_size=.85)\n",
    "\n",
    "X_train, X_val, y_train, y_val = train_test_split(\n",
    "    X_not_test, y_not_rest, stratify=y_not_rest, train_size=.95)\n",
    "\n",
    "print(X_train.shape)\n",
    "print(y_train.shape)\n",
    "print(X_val.shape)\n",
    "print(y_val.shape)\n",
    "print(X_test.shape)\n",
    "print(y_test.shape)"
   ]
  },
  {
   "cell_type": "code",
   "execution_count": 32,
   "metadata": {
    "collapsed": false
   },
   "outputs": [],
   "source": [
    "## Imports\n",
    "from __future__ import print_function\n",
    "import keras\n",
    "from keras.datasets import mnist\n",
    "from keras.models import Sequential\n",
    "from keras.layers import Dense, Dropout, Flatten\n",
    "from keras.layers import Conv2D, MaxPooling2D, Conv1D\n",
    "from keras import backend as K\n",
    "from keras.utils import print_summary, plot_model"
   ]
  },
  {
   "cell_type": "code",
   "execution_count": 33,
   "metadata": {
    "collapsed": false
   },
   "outputs": [
    {
     "name": "stdout",
     "output_type": "stream",
     "text": [
      "(25, 16000, 1)\n",
      "(25, 5)\n"
     ]
    }
   ],
   "source": [
    "# Training parameters\n",
    "batch_size = 32\n",
    "num_classes = 5\n",
    "epochs = 40\n",
    "signal_length = 16000\n",
    "\n",
    "X_train = X_train.reshape(X_train.shape[0], signal_length, 1)\n",
    "X_test = X_test.reshape(X_test.shape[0], signal_length, 1)\n",
    "X_val = X_val.reshape(X_val.shape[0], signal_length, 1)\n",
    "input_shape = (signal_length, 1)\n",
    "print(X_train.shape)\n",
    "print(y_train.shape)\n",
    "print(X_val.shape)\n",
    "print(y_val.shape)\n",
    "print(X_test.shape)\n",
    "print(y_test.shape)"
   ]
  },
  {
   "cell_type": "code",
   "execution_count": 34,
   "metadata": {
    "collapsed": false
   },
   "outputs": [],
   "source": [
    "from keras import regularizers\n",
    "from keras.layers import BatchNormalization\n",
    "\n",
    "def build_model():\n",
    "    # Model definition\n",
    "    model = Sequential()\n",
    "    model.add(Conv1D(10, kernel_size=int(16000 * 0.02),\n",
    "                     strides=int(16000 * 0.01),\n",
    "                     activation='relu',\n",
    "                     input_shape=input_shape))\n",
    "    \n",
    "    model.add(Conv1D(20, kernel_size=10, \n",
    "                     strides=5,\n",
    "                     activation='relu'))\n",
    "    \n",
    "    model.add(Flatten())\n",
    "    model.add(Dense(128, activation='relu'))\n",
    "\n",
    "    model.add(Dense(64, activation='relu'))\n",
    "    \n",
    "    model.add(Dense(num_classes, activation='softmax'))\n",
    "\n",
    "    model.compile(loss=keras.losses.categorical_crossentropy,\n",
    "                  optimizer=keras.optimizers.Adam(lr=.005),\n",
    "                  metrics=['accuracy'])\n",
    "    \n",
    "    return model"
   ]
  },
  {
   "cell_type": "code",
   "execution_count": 35,
   "metadata": {
    "collapsed": false
   },
   "outputs": [],
   "source": [
    "model = build_model()"
   ]
  },
  {
   "cell_type": "code",
   "execution_count": 36,
   "metadata": {
    "collapsed": false
   },
   "outputs": [
    {
     "name": "stdout",
     "output_type": "stream",
     "text": [
      "Train on 25 samples, validate on 25 samples\n",
      "Epoch 1/40\n",
      "25/25 [==============================] - 1s 31ms/step - loss: 1.6077 - acc: 0.1200 - val_loss: 1.5736 - val_acc: 0.4800\n",
      "Epoch 2/40\n",
      "25/25 [==============================] - 0s 823us/step - loss: 1.5736 - acc: 0.4800 - val_loss: 1.5063 - val_acc: 0.6000\n",
      "Epoch 3/40\n",
      "25/25 [==============================] - 0s 1ms/step - loss: 1.5063 - acc: 0.6000 - val_loss: 1.4032 - val_acc: 0.5200\n",
      "Epoch 4/40\n",
      "25/25 [==============================] - 0s 1ms/step - loss: 1.4032 - acc: 0.5200 - val_loss: 1.2806 - val_acc: 0.5200\n",
      "Epoch 5/40\n",
      "25/25 [==============================] - 0s 2ms/step - loss: 1.2806 - acc: 0.5200 - val_loss: 1.1263 - val_acc: 0.6000\n",
      "Epoch 6/40\n",
      "25/25 [==============================] - 0s 1ms/step - loss: 1.1263 - acc: 0.6000 - val_loss: 0.9581 - val_acc: 0.7200\n",
      "Epoch 7/40\n",
      "25/25 [==============================] - 0s 1ms/step - loss: 0.9581 - acc: 0.7200 - val_loss: 0.7794 - val_acc: 0.7600\n",
      "Epoch 8/40\n",
      "25/25 [==============================] - 0s 1ms/step - loss: 0.7794 - acc: 0.7600 - val_loss: 0.5869 - val_acc: 0.9200\n",
      "Epoch 9/40\n",
      "25/25 [==============================] - 0s 1ms/step - loss: 0.5869 - acc: 0.9200 - val_loss: 0.3848 - val_acc: 1.0000\n",
      "Epoch 10/40\n",
      "25/25 [==============================] - 0s 1ms/step - loss: 0.3848 - acc: 1.0000 - val_loss: 0.2152 - val_acc: 1.0000\n",
      "Epoch 11/40\n",
      "25/25 [==============================] - 0s 1ms/step - loss: 0.2152 - acc: 1.0000 - val_loss: 0.1030 - val_acc: 1.0000\n",
      "Epoch 12/40\n",
      "25/25 [==============================] - 0s 1ms/step - loss: 0.1030 - acc: 1.0000 - val_loss: 0.0414 - val_acc: 1.0000\n",
      "Epoch 13/40\n",
      "25/25 [==============================] - 0s 1ms/step - loss: 0.0414 - acc: 1.0000 - val_loss: 0.0158 - val_acc: 1.0000\n",
      "Epoch 14/40\n",
      "25/25 [==============================] - 0s 1ms/step - loss: 0.0158 - acc: 1.0000 - val_loss: 0.0054 - val_acc: 1.0000\n",
      "Epoch 15/40\n",
      "25/25 [==============================] - 0s 1ms/step - loss: 0.0054 - acc: 1.0000 - val_loss: 0.0013 - val_acc: 1.0000\n",
      "Epoch 16/40\n",
      "25/25 [==============================] - 0s 826us/step - loss: 0.0013 - acc: 1.0000 - val_loss: 4.1382e-04 - val_acc: 1.0000\n",
      "Epoch 17/40\n",
      "25/25 [==============================] - 0s 937us/step - loss: 4.1382e-04 - acc: 1.0000 - val_loss: 2.0286e-04 - val_acc: 1.0000\n",
      "Epoch 18/40\n",
      "25/25 [==============================] - 0s 1ms/step - loss: 2.0286e-04 - acc: 1.0000 - val_loss: 1.7776e-04 - val_acc: 1.0000\n",
      "Epoch 19/40\n",
      "25/25 [==============================] - 0s 923us/step - loss: 1.7776e-04 - acc: 1.0000 - val_loss: 1.5500e-04 - val_acc: 1.0000\n",
      "Epoch 20/40\n",
      "25/25 [==============================] - 0s 781us/step - loss: 1.5500e-04 - acc: 1.0000 - val_loss: 1.0501e-04 - val_acc: 1.0000\n",
      "Epoch 21/40\n",
      "25/25 [==============================] - 0s 1ms/step - loss: 1.0501e-04 - acc: 1.0000 - val_loss: 8.1477e-05 - val_acc: 1.0000\n",
      "Epoch 22/40\n",
      "25/25 [==============================] - 0s 988us/step - loss: 8.1477e-05 - acc: 1.0000 - val_loss: 8.5029e-05 - val_acc: 1.0000\n",
      "Epoch 23/40\n",
      "25/25 [==============================] - 0s 803us/step - loss: 8.5029e-05 - acc: 1.0000 - val_loss: 9.0447e-05 - val_acc: 1.0000\n",
      "Epoch 24/40\n",
      "25/25 [==============================] - 0s 787us/step - loss: 9.0447e-05 - acc: 1.0000 - val_loss: 7.8143e-05 - val_acc: 1.0000\n",
      "Epoch 25/40\n",
      "25/25 [==============================] - 0s 843us/step - loss: 7.8143e-05 - acc: 1.0000 - val_loss: 5.5805e-05 - val_acc: 1.0000\n",
      "Epoch 26/40\n",
      "25/25 [==============================] - 0s 877us/step - loss: 5.5805e-05 - acc: 1.0000 - val_loss: 3.8435e-05 - val_acc: 1.0000\n",
      "Epoch 27/40\n",
      "25/25 [==============================] - 0s 2ms/step - loss: 3.8435e-05 - acc: 1.0000 - val_loss: 2.8122e-05 - val_acc: 1.0000\n",
      "Epoch 28/40\n",
      "25/25 [==============================] - 0s 873us/step - loss: 2.8122e-05 - acc: 1.0000 - val_loss: 2.0763e-05 - val_acc: 1.0000\n",
      "Epoch 29/40\n",
      "25/25 [==============================] - 0s 957us/step - loss: 2.0763e-05 - acc: 1.0000 - val_loss: 1.3901e-05 - val_acc: 1.0000\n",
      "Epoch 30/40\n",
      "25/25 [==============================] - 0s 972us/step - loss: 1.3901e-05 - acc: 1.0000 - val_loss: 8.3402e-06 - val_acc: 1.0000\n",
      "Epoch 31/40\n",
      "25/25 [==============================] - 0s 878us/step - loss: 8.3402e-06 - acc: 1.0000 - val_loss: 4.7232e-06 - val_acc: 1.0000\n",
      "Epoch 32/40\n",
      "25/25 [==============================] - 0s 1ms/step - loss: 4.7232e-06 - acc: 1.0000 - val_loss: 2.6775e-06 - val_acc: 1.0000\n",
      "Epoch 33/40\n",
      "25/25 [==============================] - 0s 1ms/step - loss: 2.6775e-06 - acc: 1.0000 - val_loss: 1.5688e-06 - val_acc: 1.0000\n",
      "Epoch 34/40\n",
      "25/25 [==============================] - 0s 960us/step - loss: 1.5688e-06 - acc: 1.0000 - val_loss: 9.7752e-07 - val_acc: 1.0000\n",
      "Epoch 35/40\n",
      "25/25 [==============================] - 0s 999us/step - loss: 9.7752e-07 - acc: 1.0000 - val_loss: 6.4850e-07 - val_acc: 1.0000\n",
      "Epoch 36/40\n",
      "25/25 [==============================] - 0s 925us/step - loss: 6.4850e-07 - acc: 1.0000 - val_loss: 4.6015e-07 - val_acc: 1.0000\n",
      "Epoch 37/40\n",
      "25/25 [==============================] - 0s 2ms/step - loss: 4.6015e-07 - acc: 1.0000 - val_loss: 3.4571e-07 - val_acc: 1.0000\n",
      "Epoch 38/40\n",
      "25/25 [==============================] - 0s 1ms/step - loss: 3.4571e-07 - acc: 1.0000 - val_loss: 2.7180e-07 - val_acc: 1.0000\n",
      "Epoch 39/40\n",
      "25/25 [==============================] - 0s 1ms/step - loss: 2.7180e-07 - acc: 1.0000 - val_loss: 2.2888e-07 - val_acc: 1.0000\n",
      "Epoch 40/40\n",
      "25/25 [==============================] - 0s 949us/step - loss: 2.2888e-07 - acc: 1.0000 - val_loss: 2.0027e-07 - val_acc: 1.0000\n"
     ]
    },
    {
     "data": {
      "text/plain": [
       "<keras.callbacks.History at 0x12424bd30>"
      ]
     },
     "execution_count": 36,
     "metadata": {},
     "output_type": "execute_result"
    }
   ],
   "source": [
    "model.fit(X_train, y_train,\n",
    "          batch_size=batch_size,\n",
    "          epochs=epochs,\n",
    "          verbose=1,\n",
    "          validation_data=(X_val, y_val))"
   ]
  },
  {
   "cell_type": "code",
   "execution_count": 38,
   "metadata": {
    "collapsed": false
   },
   "outputs": [
    {
     "name": "stdout",
     "output_type": "stream",
     "text": [
      "25/25 [==============================] - 0s 258us/step\n",
      "\n",
      "Test loss: 2.00271685458e-07\n",
      "Test accuracy: 1.0\n"
     ]
    }
   ],
   "source": [
    "score = model.evaluate(X_test, y_test, verbose=1)\n",
    "print()\n",
    "print('Test loss:', score[0])\n",
    "print('Test accuracy:', score[1])"
   ]
  },
  {
   "cell_type": "code",
   "execution_count": null,
   "metadata": {
    "collapsed": true
   },
   "outputs": [],
   "source": []
  }
 ],
 "metadata": {
  "kernelspec": {
   "display_name": "Python 3",
   "language": "python",
   "name": "python3"
  },
  "language_info": {
   "codemirror_mode": {
    "name": "ipython",
    "version": 3
   },
   "file_extension": ".py",
   "mimetype": "text/x-python",
   "name": "python",
   "nbconvert_exporter": "python",
   "pygments_lexer": "ipython3",
   "version": "3.5.2"
  }
 },
 "nbformat": 4,
 "nbformat_minor": 2
}
