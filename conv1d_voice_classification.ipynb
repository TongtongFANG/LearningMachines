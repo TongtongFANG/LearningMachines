{
 "cells": [
  {
   "cell_type": "code",
   "execution_count": 1,
   "metadata": {},
   "outputs": [],
   "source": [
    "import glob\n",
    "import os\n",
    "import librosa\n",
    "import numpy as np\n",
    "import matplotlib.pyplot as plt\n",
    "from matplotlib.pyplot import specgram\n",
    "%matplotlib inline\n",
    "plt.style.use('ggplot')\n",
    "\n",
    "plt.rcParams['font.family'] = 'serif'\n",
    "plt.rcParams['font.serif'] = 'Ubuntu'\n",
    "plt.rcParams['font.monospace'] = 'Ubuntu Mono'\n",
    "plt.rcParams['font.size'] = 12\n",
    "plt.rcParams['axes.labelsize'] = 11\n",
    "plt.rcParams['axes.labelweight'] = 'bold'\n",
    "plt.rcParams['axes.titlesize'] = 14\n",
    "plt.rcParams['xtick.labelsize'] = 10\n",
    "plt.rcParams['ytick.labelsize'] = 10\n",
    "plt.rcParams['legend.fontsize'] = 11\n",
    "plt.rcParams['figure.titlesize'] = 13"
   ]
  },
  {
   "cell_type": "code",
   "execution_count": 2,
   "metadata": {
    "collapsed": false,
    "deletable": true,
    "editable": true
   },
   "outputs": [
    {
     "data": {
      "text/plain": [
       "[True, True, True, True, True, True]"
      ]
     },
     "execution_count": 2,
     "metadata": {},
     "output_type": "execute_result"
    }
   ],
   "source": [
    "list(map(lambda d: os.path.isdir(os.path.join('dataset', d)), os.listdir('dataset')))"
   ]
  },
  {
   "cell_type": "code",
   "execution_count": 3,
   "metadata": {
    "collapsed": false,
    "deletable": true,
    "editable": true
   },
   "outputs": [
    {
     "data": {
      "text/plain": [
       "['0a7c2a8d_nohash_1.wav',\n",
       " '0ac15fe9_nohash_0.wav',\n",
       " '0a7c2a8d_nohash_0.wav',\n",
       " '0a9f9af7_nohash_0.wav',\n",
       " '0ab3b47d_nohash_0.wav']"
      ]
     },
     "execution_count": 3,
     "metadata": {},
     "output_type": "execute_result"
    }
   ],
   "source": [
    "os.listdir('dataset_tmp/right')"
   ]
  },
  {
   "cell_type": "code",
   "execution_count": 23,
   "metadata": {
    "collapsed": false,
    "deletable": true,
    "editable": true
   },
   "outputs": [],
   "source": [
    "class_labels = {\n",
    "    'down' : 0,\n",
    "    'left' : 1,\n",
    "    'off'  : 2,\n",
    "    'on'   : 3,\n",
    "    'right': 4,\n",
    "    'up'   : 5\n",
    "}\n",
    "\n",
    "num_classes = 6\n",
    "\n",
    "def extract_feature(fn):\n",
    "    \n",
    "    X, _ = librosa.load(fn, sr=None)\n",
    "    \n",
    "    return np.pad(X, ((0),(16000 - len(X))), mode='constant', constant_values=0.0)\n",
    "    \n",
    "def parse_audio_files(data_dir, sample_size=10, file_ext='*.wav'):\n",
    "    \n",
    "    features, labels = np.empty((0, 16000)), []\n",
    "    \n",
    "    for sub_dir in os.listdir(data_dir):\n",
    "        \n",
    "        if not os.path.isdir(os.path.join(data_dir, sub_dir)):\n",
    "            continue\n",
    "        \n",
    "        raw_label_all_zero = np.zeros(num_classes, dtype=np.int)\n",
    "        raw_label_all_zero[class_labels[sub_dir]] = 1\n",
    "        print(\"Working on %s\" % sub_dir)\n",
    "        \n",
    "        for idx, fn in enumerate(glob.glob(os.path.join(data_dir, sub_dir, file_ext))):\n",
    "\n",
    "            if idx >= sample_size:\n",
    "                break\n",
    "            \n",
    "            features = np.vstack([features, extract_feature(fn)])\n",
    "            labels.append(raw_label_all_zero)\n",
    "\n",
    "    return np.array(features), np.array(labels)"
   ]
  },
  {
   "cell_type": "code",
   "execution_count": 4,
   "metadata": {},
   "outputs": [
    {
     "name": "stdout",
     "output_type": "stream",
     "text": [
      "Working on left\n",
      "Working on on\n",
      "Working on up\n",
      "Working on right\n",
      "Working on down\n",
      "Working on off\n"
     ]
    }
   ],
   "source": [
    "data_dir = 'dataset'\n",
    "\n",
    "features, labels = parse_audio_files(data_dir, sample_size=500)"
   ]
  },
  {
   "cell_type": "code",
   "execution_count": 24,
   "metadata": {
    "collapsed": false,
    "deletable": true,
    "editable": true
   },
   "outputs": [
    {
     "name": "stdout",
     "output_type": "stream",
     "text": [
      "(3000, 16000)\n",
      "(3000, 6)\n"
     ]
    }
   ],
   "source": [
    "print(features.shape)\n",
    "print(labels.shape)"
   ]
  },
  {
   "cell_type": "code",
   "execution_count": 6,
   "metadata": {},
   "outputs": [],
   "source": [
    "# np.savetxt(\"nn_conv1d_features.csv\", features, delimiter=\",\")\n",
    "# np.savetxt(\"nn_conv1d_labels.csv\", labels, delimiter=\",\")"
   ]
  },
  {
   "cell_type": "code",
   "execution_count": 7,
   "metadata": {},
   "outputs": [
    {
     "name": "stdout",
     "output_type": "stream",
     "text": [
      "(2700, 16000)\n",
      "(2700, 6)\n",
      "(300, 16000)\n",
      "(300, 6)\n"
     ]
    }
   ],
   "source": [
    "from sklearn.model_selection import train_test_split\n",
    "\n",
    "X_train, X_test, y_train, y_test = train_test_split(\n",
    "    features, labels, stratify=labels, train_size=.9, test_size=0.1)\n",
    "\n",
    "# X_train, X_val, y_train, y_val = train_test_split(\n",
    "#     X_not_test, y_not_rest, stratify=y_not_rest, train_size=.95)\n",
    "\n",
    "print(X_train.shape)\n",
    "print(y_train.shape)\n",
    "print(X_test.shape)\n",
    "print(y_test.shape)"
   ]
  },
  {
   "cell_type": "code",
   "execution_count": 21,
   "metadata": {},
   "outputs": [],
   "source": [
    "## Imports\n",
    "from __future__ import print_function\n",
    "import keras\n",
    "from keras.datasets import mnist\n",
    "from keras.models import Sequential\n",
    "from keras.layers import Dense, Dropout, Flatten\n",
    "from keras.layers import Conv2D, MaxPooling2D, Conv1D, MaxPooling1D\n",
    "from keras import backend as K\n",
    "from keras.utils import print_summary, plot_model"
   ]
  },
  {
   "cell_type": "code",
   "execution_count": 25,
   "metadata": {},
   "outputs": [
    {
     "data": {
      "text/plain": [
       "0"
      ]
     },
     "execution_count": 25,
     "metadata": {},
     "output_type": "execute_result"
    }
   ],
   "source": [
    "os.system(\"pip3 show keras\")"
   ]
  },
  {
   "cell_type": "code",
   "execution_count": 10,
   "metadata": {},
   "outputs": [
    {
     "name": "stdout",
     "output_type": "stream",
     "text": [
      "(2700, 16000, 1)\n",
      "(2700, 6)\n",
      "(300, 16000, 1)\n",
      "(300, 6)\n"
     ]
    }
   ],
   "source": [
    "# Training parameters\n",
    "batch_size = 64\n",
    "num_classes = 6\n",
    "epochs = 40\n",
    "signal_length = 16000\n",
    "\n",
    "X_train = X_train.reshape(X_train.shape[0], signal_length, 1)\n",
    "X_test = X_test.reshape(X_test.shape[0], signal_length, 1)\n",
    "# X_val = X_val.reshape(X_val.shape[0], signal_length, 1)\n",
    "input_shape = (signal_length, 1)\n",
    "print(X_train.shape)\n",
    "print(y_train.shape)\n",
    "print(X_test.shape)\n",
    "print(y_test.shape)"
   ]
  },
  {
   "cell_type": "code",
   "execution_count": 11,
   "metadata": {},
   "outputs": [],
   "source": [
    "from keras import regularizers\n",
    "from keras.layers import BatchNormalization\n",
    "\n",
    "def build_model():\n",
    "    # Model definition\n",
    "    model = Sequential()\n",
    "    model.add(Conv1D(640, kernel_size=int(16000 * 0.01),\n",
    "                     strides=int(16000 * 0.005),\n",
    "                     activation='relu',\n",
    "                     input_shape=input_shape))\n",
    "#     model.add(MaxPooling1D())\n",
    "    model.add(Dropout(0.5))\n",
    "    \n",
    "    model.add(Conv1D(960, kernel_size=4,\n",
    "                     strides=1,\n",
    "                     activation='relu'))\n",
    "    model.add(MaxPooling1D())\n",
    "    model.add(Dropout(0.5))\n",
    "    \n",
    "    model.add(Flatten())\n",
    "    \n",
    "    model.add(Dense(256, activation='relu'))\n",
    "    model.add(Dropout(0.5))\n",
    "    \n",
    "    model.add(Dense(num_classes, activation='softmax'))\n",
    "\n",
    "    model.compile(loss=keras.losses.categorical_crossentropy,\n",
    "                  optimizer='adam',\n",
    "                  metrics=['accuracy'])\n",
    "    \n",
    "    return model"
   ]
  },
  {
   "cell_type": "code",
   "execution_count": 54,
   "metadata": {
    "collapsed": false,
    "deletable": true,
    "editable": true
   },
   "outputs": [],
   "source": [
    "model = build_model()"
   ]
  },
  {
   "cell_type": "code",
   "execution_count": 52,
   "metadata": {
    "collapsed": false,
    "deletable": true,
    "editable": true
   },
   "outputs": [
    {
     "name": "stdout",
     "output_type": "stream",
     "text": [
      "Train on 2700 samples, validate on 300 samples\n",
      "Epoch 1/40\n",
      "2700/2700 [==============================] - 35s 13ms/step - loss: 1.7779 - acc: 0.1881 - val_loss: 1.6854 - val_acc: 0.2400\n",
      "Epoch 2/40\n",
      "2700/2700 [==============================] - 31s 11ms/step - loss: 1.6054 - acc: 0.3363 - val_loss: 1.5412 - val_acc: 0.3733\n",
      "Epoch 3/40\n",
      "2700/2700 [==============================] - 31s 12ms/step - loss: 1.4469 - acc: 0.4226 - val_loss: 1.4025 - val_acc: 0.4367\n",
      "Epoch 4/40\n",
      "2700/2700 [==============================] - 31s 12ms/step - loss: 1.2668 - acc: 0.5241 - val_loss: 1.3415 - val_acc: 0.5000\n",
      "Epoch 5/40\n",
      "2700/2700 [==============================] - 31s 12ms/step - loss: 1.0817 - acc: 0.5967 - val_loss: 1.2596 - val_acc: 0.5167\n",
      "Epoch 6/40\n",
      "2700/2700 [==============================] - 31s 12ms/step - loss: 0.9157 - acc: 0.6700 - val_loss: 1.3213 - val_acc: 0.5467\n",
      "Epoch 7/40\n",
      "2700/2700 [==============================] - 31s 12ms/step - loss: 0.7488 - acc: 0.7274 - val_loss: 1.3192 - val_acc: 0.5667\n",
      "Epoch 8/40\n",
      "2700/2700 [==============================] - 31s 12ms/step - loss: 0.6506 - acc: 0.7663 - val_loss: 1.3088 - val_acc: 0.5700\n",
      "Epoch 9/40\n",
      "2700/2700 [==============================] - 31s 11ms/step - loss: 0.5389 - acc: 0.8115 - val_loss: 1.2759 - val_acc: 0.6133\n",
      "Epoch 10/40\n",
      "2700/2700 [==============================] - 31s 11ms/step - loss: 0.4632 - acc: 0.8326 - val_loss: 1.5022 - val_acc: 0.5900\n",
      "Epoch 11/40\n",
      "2700/2700 [==============================] - 32s 12ms/step - loss: 0.4363 - acc: 0.8459 - val_loss: 1.4388 - val_acc: 0.6033\n",
      "Epoch 12/40\n",
      "2700/2700 [==============================] - 32s 12ms/step - loss: 0.3638 - acc: 0.8719 - val_loss: 1.5143 - val_acc: 0.6067\n",
      "Epoch 13/40\n",
      "2700/2700 [==============================] - 31s 12ms/step - loss: 0.3287 - acc: 0.8878 - val_loss: 1.5809 - val_acc: 0.6200\n",
      "Epoch 14/40\n",
      "2700/2700 [==============================] - 31s 12ms/step - loss: 0.2983 - acc: 0.8985 - val_loss: 1.4702 - val_acc: 0.6100\n",
      "Epoch 15/40\n",
      "2700/2700 [==============================] - 31s 12ms/step - loss: 0.2715 - acc: 0.9119 - val_loss: 1.5558 - val_acc: 0.6000\n",
      "Epoch 16/40\n",
      "2700/2700 [==============================] - 31s 12ms/step - loss: 0.2535 - acc: 0.9159 - val_loss: 1.6216 - val_acc: 0.6300\n",
      "Epoch 17/40\n",
      "2700/2700 [==============================] - 31s 11ms/step - loss: 0.2556 - acc: 0.9193 - val_loss: 1.5868 - val_acc: 0.6267\n",
      "Epoch 18/40\n",
      "2700/2700 [==============================] - 31s 11ms/step - loss: 0.2215 - acc: 0.9259 - val_loss: 1.8209 - val_acc: 0.6167\n",
      "Epoch 19/40\n",
      "2700/2700 [==============================] - 31s 12ms/step - loss: 0.2233 - acc: 0.9237 - val_loss: 1.6127 - val_acc: 0.6400\n",
      "Epoch 20/40\n",
      "2700/2700 [==============================] - 31s 12ms/step - loss: 0.2103 - acc: 0.9356 - val_loss: 1.7907 - val_acc: 0.6067\n",
      "Epoch 21/40\n",
      "2700/2700 [==============================] - 31s 12ms/step - loss: 0.1686 - acc: 0.9430 - val_loss: 1.9254 - val_acc: 0.6200\n",
      "Epoch 22/40\n",
      "2700/2700 [==============================] - 31s 12ms/step - loss: 0.1732 - acc: 0.9467 - val_loss: 1.9441 - val_acc: 0.5967\n",
      "Epoch 23/40\n",
      "2700/2700 [==============================] - 31s 12ms/step - loss: 0.1739 - acc: 0.9474 - val_loss: 1.7504 - val_acc: 0.6067\n",
      "Epoch 24/40\n",
      "2700/2700 [==============================] - 31s 12ms/step - loss: 0.1597 - acc: 0.9459 - val_loss: 1.7754 - val_acc: 0.6200\n",
      "Epoch 25/40\n",
      "2700/2700 [==============================] - 32s 12ms/step - loss: 0.1520 - acc: 0.9507 - val_loss: 1.7442 - val_acc: 0.5933\n",
      "Epoch 26/40\n",
      "1408/2700 [==============>...............] - ETA: 14s - loss: 0.1350 - acc: 0.9517"
     ]
    },
    {
     "ename": "KeyboardInterrupt",
     "evalue": "",
     "output_type": "error",
     "traceback": [
      "\u001b[0;31mKeyboardInterrupt\u001b[0m: "
     ]
    }
   ],
   "source": [
    "model.fit(X_train, y_train,\n",
    "          batch_size=batch_size,\n",
    "          epochs=epochs,\n",
    "          verbose=1,\n",
    "          validation_data=(X_test, y_test))"
   ]
  },
  {
   "cell_type": "code",
   "execution_count": 20,
   "metadata": {},
   "outputs": [
    {
     "name": "stdout",
     "output_type": "stream",
     "text": [
      "2700/2700 [==============================] - 9s 3ms/step\n",
      "\n",
      "Train loss: 1.791677, train accuracy: 0.173704\n",
      "300/300 [==============================] - 1s 3ms/step\n",
      "\n",
      "Test loss: 1.791788, test accuracy: 0.163333\n"
     ]
    }
   ],
   "source": [
    "score = model.evaluate(X_train, y_train, verbose=1)\n",
    "print()\n",
    "print('Train loss: %f, train accuracy: %f' % (score[0], score[1]))\n",
    "\n",
    "score = model.evaluate(X_test, y_test, verbose=1)\n",
    "print()\n",
    "print('Test loss: %f, test accuracy: %f' % (score[0], score[1]))"
   ]
  },
  {
   "cell_type": "code",
   "execution_count": 53,
   "metadata": {
    "collapsed": true,
    "deletable": true,
    "editable": true
   },
   "outputs": [],
   "source": [
    "import gc"
   ]
  },
  {
   "cell_type": "code",
   "execution_count": null,
   "metadata": {},
   "outputs": [],
   "source": []
  }
 ],
 "metadata": {
  "kernelspec": {
   "display_name": "Python 3",
   "language": "python",
   "name": "python3"
  },
  "language_info": {
   "codemirror_mode": {
    "name": "ipython",
    "version": 3
   },
   "file_extension": ".py",
   "mimetype": "text/x-python",
   "name": "python",
   "nbconvert_exporter": "python",
   "pygments_lexer": "ipython3",
   "version": "3.5.2"
  }
 },
 "nbformat": 4,
 "nbformat_minor": 2
}
